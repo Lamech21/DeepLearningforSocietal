{
  "nbformat": 4,
  "nbformat_minor": 0,
  "metadata": {
    "accelerator": "GPU",
    "colab": {
      "name": "Mental health CBT Therapy  Finetune BERT-GPT-2  v2",
      "provenance": [],
      "collapsed_sections": [],
      "include_colab_link": true
    },
    "kernelspec": {
      "display_name": "Python 3",
      "name": "python3"
    }
  },
  "cells": [
    {
      "cell_type": "markdown",
      "metadata": {
        "id": "view-in-github",
        "colab_type": "text"
      },
      "source": [
        "<a href=\"https://colab.research.google.com/github/rajagopalmotivate/DeepLearningforSocietal/blob/main/Mental_health_Finetune_GPT_2.ipynb\" target=\"_parent\"><img src=\"https://colab.research.google.com/assets/colab-badge.svg\" alt=\"Open In Colab\"/></a>"
      ]
    },
    {
      "cell_type": "markdown",
      "metadata": {
        "id": "H7LoMj4GA4n_"
      },
      "source": [
        "#  Mental health expert fine tunes a GPT-2 model  \n",
        " \n"
      ]
    },
    {
      "cell_type": "code",
      "metadata": {
        "colab": {
          "base_uri": "https://localhost:8080/"
        },
        "id": "KBkpRgBCBS2_",
        "outputId": "b16bc5db-6d9e-4876-924a-8b1f9e3f3246"
      },
      "source": [
        "%tensorflow_version 1.x\n",
        "\n",
        "!pip install -q gpt-2-simple\n",
        "import gpt_2_simple as gpt2\n",
        "from datetime import datetime\n",
        "from google.colab import files"
      ],
      "execution_count": 1,
      "outputs": [
        {
          "output_type": "stream",
          "name": "stdout",
          "text": [
            "TensorFlow 1.x selected.\n",
            "\u001b[K     |████████████████████████████████| 489.6 MB 22 kB/s \n",
            "\u001b[K     |████████████████████████████████| 5.8 MB 39.8 MB/s \n",
            "\u001b[K     |████████████████████████████████| 1.3 MB 36.8 MB/s \n",
            "\u001b[K     |████████████████████████████████| 463 kB 46.6 MB/s \n",
            "\u001b[?25h  Building wheel for gpt-2-simple (setup.py) ... \u001b[?25l\u001b[?25hdone\n"
          ]
        }
      ]
    },
    {
      "cell_type": "markdown",
      "metadata": {
        "id": "0wXB05bPDYxS"
      },
      "source": [
        "## Downloading GPT-2\n",
        "\n",
        "The default query returns 1.3MB of data, so probably should only use `124M` GPT-2 to finetune. If working with more Reddity data, then migrate to `355M`."
      ]
    },
    {
      "cell_type": "code",
      "metadata": {
        "colab": {
          "base_uri": "https://localhost:8080/"
        },
        "id": "P8wSlgXoDPCR",
        "outputId": "54c50c1d-c501-4b80-8c7f-bfab1269c17a"
      },
      "source": [
        "gpt2.download_gpt2(model_name=\"124M\")"
      ],
      "execution_count": 2,
      "outputs": [
        {
          "output_type": "stream",
          "name": "stderr",
          "text": [
            "Fetching checkpoint: 1.05Mit [00:00, 686Mit/s]                                                      \n",
            "Fetching encoder.json: 1.05Mit [00:00, 10.2Mit/s]\n",
            "Fetching hparams.json: 1.05Mit [00:00, 668Mit/s]                                                    \n",
            "Fetching model.ckpt.data-00000-of-00001: 498Mit [00:35, 13.9Mit/s]                                  \n",
            "Fetching model.ckpt.index: 1.05Mit [00:00, 446Mit/s]                                                \n",
            "Fetching model.ckpt.meta: 1.05Mit [00:00, 9.85Mit/s]\n",
            "Fetching vocab.bpe: 1.05Mit [00:00, 8.67Mit/s]\n"
          ]
        }
      ]
    },
    {
      "cell_type": "markdown",
      "metadata": {
        "id": "N8KXuKWzQSsN"
      },
      "source": [
        "\n",
        "\n",
        "```\n",
        "# This is formatted as code\n",
        "```\n",
        "\n",
        "## Mental health professional provides her input here.\n",
        "\n"
      ]
    },
    {
      "cell_type": "code",
      "metadata": {
        "id": "puq4iC6vUAHc"
      },
      "source": [
        ""
      ],
      "execution_count": 2,
      "outputs": []
    },
    {
      "cell_type": "code",
      "metadata": {
        "id": "hdnxIwvb5Rxf"
      },
      "source": [
        "LISTOFDEPRESSIONSITATION = [ 'lost my job ', 'i got fired ', 'i am unemployed ' , 'i am unable to pay bill ']"
      ],
      "execution_count": 3,
      "outputs": []
    },
    {
      "cell_type": "code",
      "metadata": {
        "id": "-3rfg-pl8P8y"
      },
      "source": [
        "LISTOFDEPRESSIONTHOUGHTS = [ 'i am depressed', 'i feel so low', 'i am mentally depressed' , 'i am so much in sorrow', 'i am so dull',  'i am tired of life' , 'i am depressed all night', 'i am so low' ]"
      ],
      "execution_count": 4,
      "outputs": []
    },
    {
      "cell_type": "code",
      "metadata": {
        "id": "VMh-BkWs82Yg"
      },
      "source": [
        "LISTOFCBTBELFIFS = ['i am smart', 'i am good', 'i am well educated', 'i am cool', 'i am well qualified', 'i am intelligent', 'i have managed worser things than this', 'i am quite smart ', ' i have lot of hope on the future', 'i have saved enough', 'i am very smart', 'i have a good reputation', ' i have a supportive family', 'my firends say i am smart', 'my family say i am smart compared to others', 'my friend is kind to me', 'my family is so supportive']"
      ],
      "execution_count": 5,
      "outputs": []
    },
    {
      "cell_type": "code",
      "metadata": {
        "id": "EM5iPyhNGN5K"
      },
      "source": [
        "LISTOFCBTBELFIFSCONNECTIONS = [' . i remember', ', but fortunately ', ' , but luckily for me ', ', ' , ' . I know ', ' .Let me recollect that ', ' . Let me keep remembering that ', ' . Let me feel thankful that ', ' . ']"
      ],
      "execution_count": 6,
      "outputs": []
    },
    {
      "cell_type": "code",
      "metadata": {
        "id": "FSuwo0hi7lSP"
      },
      "source": [
        ""
      ],
      "execution_count": 6,
      "outputs": []
    },
    {
      "cell_type": "code",
      "metadata": {
        "id": "dcRi5bWL7lpr"
      },
      "source": [
        "import random\n"
      ],
      "execution_count": 7,
      "outputs": []
    },
    {
      "cell_type": "code",
      "metadata": {
        "id": "u4SsXz1aHdLy"
      },
      "source": [
        "def getaRandomword(mylistofword):\n",
        "  return mylistofword[random.randint(0, len(mylistofword) -1) ]\n"
      ],
      "execution_count": 8,
      "outputs": []
    },
    {
      "cell_type": "code",
      "metadata": {
        "id": "UffzLJnfItFA"
      },
      "source": [
        "def getaRandomsequence(seq1, seq2):\n",
        "  concatsimilarmeaningwords = ['  ', ' ', ' and ']\n",
        "  randomnumber = random.randint(0,1)\n",
        "  ans = \"\"\n",
        "  if randomnumber == 0:\n",
        "    ans = seq1 +  getaRandomword(concatsimilarmeaningwords) + seq2\n",
        "  else :\n",
        "    ans = seq2 + getaRandomword(concatsimilarmeaningwords) + seq1    \n",
        "  return ans\n"
      ],
      "execution_count": 9,
      "outputs": []
    },
    {
      "cell_type": "code",
      "metadata": {
        "id": "UfFE98jxG-Hu"
      },
      "source": [
        "aLISTOFDEPRESSIONSITATION = getaRandomword(LISTOFDEPRESSIONSITATION)\n",
        "aLISTOFDEPRESSIONTHOUGHTS = getaRandomword(LISTOFDEPRESSIONTHOUGHTS)\n",
        "aLISTOFCBTBELFIFS = getaRandomword(LISTOFCBTBELFIFS)\n",
        "aLISTOFCBTBELFIFSCONNECTIONS = getaRandomword(LISTOFCBTBELFIFSCONNECTIONS)\n"
      ],
      "execution_count": 10,
      "outputs": []
    },
    {
      "cell_type": "code",
      "metadata": {
        "id": "ux3fuHilH2Z0"
      },
      "source": [
        "asentance =  aLISTOFDEPRESSIONTHOUGHTS +  \" \"+ aLISTOFCBTBELFIFSCONNECTIONS + \" \" + aLISTOFCBTBELFIFS  "
      ],
      "execution_count": 11,
      "outputs": []
    },
    {
      "cell_type": "code",
      "metadata": {
        "colab": {
          "base_uri": "https://localhost:8080/",
          "height": 36
        },
        "id": "ThwHY2Nrnops",
        "outputId": "5c3cf715-8e3e-423b-bc66-1fbfe55f9c63"
      },
      "source": [
        "asentance"
      ],
      "execution_count": 12,
      "outputs": [
        {
          "output_type": "execute_result",
          "data": {
            "application/vnd.google.colaboratory.intrinsic+json": {
              "type": "string"
            },
            "text/plain": [
              "'i am depressed all night  . Let me keep remembering that  i am very smart'"
            ]
          },
          "metadata": {},
          "execution_count": 12
        }
      ]
    },
    {
      "cell_type": "code",
      "metadata": {
        "id": "yzFqz6cdnJ-F"
      },
      "source": [
        "import pandas as pd\n",
        "df = pd.DataFrame([asentance])\n",
        "\n",
        "for i in range(4098):\n",
        "  aLISTOFDEPRESSIONSITATION = getaRandomword(LISTOFDEPRESSIONSITATION)\n",
        "  aLISTOFDEPRESSIONTHOUGHTS = getaRandomword(LISTOFDEPRESSIONTHOUGHTS)\n",
        "  aLISTOFCBTBELFIFS = getaRandomword(LISTOFCBTBELFIFS)\n",
        "  aLISTOFCBTBELFIFSCONNECTIONS = getaRandomword(LISTOFCBTBELFIFSCONNECTIONS)\n",
        "  asentance = getaRandomsequence(aLISTOFDEPRESSIONSITATION , aLISTOFDEPRESSIONTHOUGHTS) +  \" \"+ aLISTOFCBTBELFIFSCONNECTIONS + \" \" + aLISTOFCBTBELFIFS \n",
        "\n",
        "\n",
        "  #asentance =   \" \"+ aLISTOFCBTBELFIFSCONNECTIONS + \" \" + aLISTOFCBTBELFIFS   \n",
        "  dfnew = pd.DataFrame([asentance])\n",
        "  df = df.append(dfnew)\n",
        "\n",
        "\n"
      ],
      "execution_count": 13,
      "outputs": []
    },
    {
      "cell_type": "code",
      "metadata": {
        "id": "qbfvJzDGoPRd"
      },
      "source": [
        " "
      ],
      "execution_count": 13,
      "outputs": []
    },
    {
      "cell_type": "code",
      "metadata": {
        "id": "lG85EOPHouac"
      },
      "source": [
        "df.to_csv('myDataFrame.csv', index=False, header=False  )\n"
      ],
      "execution_count": 14,
      "outputs": []
    },
    {
      "cell_type": "code",
      "metadata": {
        "colab": {
          "base_uri": "https://localhost:8080/",
          "height": 34
        },
        "id": "HulLufQOoxxR",
        "outputId": "dc30d8ed-f9d1-41f1-e888-2e63afb96749"
      },
      "source": [
        "from google.colab import files\n",
        "files.download('myDataFrame.csv')"
      ],
      "execution_count": 15,
      "outputs": [
        {
          "output_type": "display_data",
          "data": {
            "application/javascript": [
              "\n",
              "    async function download(id, filename, size) {\n",
              "      if (!google.colab.kernel.accessAllowed) {\n",
              "        return;\n",
              "      }\n",
              "      const div = document.createElement('div');\n",
              "      const label = document.createElement('label');\n",
              "      label.textContent = `Downloading \"${filename}\": `;\n",
              "      div.appendChild(label);\n",
              "      const progress = document.createElement('progress');\n",
              "      progress.max = size;\n",
              "      div.appendChild(progress);\n",
              "      document.body.appendChild(div);\n",
              "\n",
              "      const buffers = [];\n",
              "      let downloaded = 0;\n",
              "\n",
              "      const channel = await google.colab.kernel.comms.open(id);\n",
              "      // Send a message to notify the kernel that we're ready.\n",
              "      channel.send({})\n",
              "\n",
              "      for await (const message of channel.messages) {\n",
              "        // Send a message to notify the kernel that we're ready.\n",
              "        channel.send({})\n",
              "        if (message.buffers) {\n",
              "          for (const buffer of message.buffers) {\n",
              "            buffers.push(buffer);\n",
              "            downloaded += buffer.byteLength;\n",
              "            progress.value = downloaded;\n",
              "          }\n",
              "        }\n",
              "      }\n",
              "      const blob = new Blob(buffers, {type: 'application/binary'});\n",
              "      const a = document.createElement('a');\n",
              "      a.href = window.URL.createObjectURL(blob);\n",
              "      a.download = filename;\n",
              "      div.appendChild(a);\n",
              "      a.click();\n",
              "      div.remove();\n",
              "    }\n",
              "  "
            ],
            "text/plain": [
              "<IPython.core.display.Javascript object>"
            ]
          },
          "metadata": {}
        },
        {
          "output_type": "display_data",
          "data": {
            "application/javascript": [
              "download(\"download_f0de7540-8ba9-477f-b383-b2ecfe04be9e\", \"myDataFrame.csv\", 320896)"
            ],
            "text/plain": [
              "<IPython.core.display.Javascript object>"
            ]
          },
          "metadata": {}
        }
      ]
    },
    {
      "cell_type": "markdown",
      "metadata": {
        "id": "BT__brhBCvJu"
      },
      "source": [
        "## This mental health professional can upload her experiences in a CSV file \n",
        "\n",
        "A single-column CSV is expected."
      ]
    },
    {
      "cell_type": "code",
      "metadata": {
        "id": "POKuPdA8zLzq"
      },
      "source": [
        "# file upload  "
      ],
      "execution_count": 16,
      "outputs": []
    },
    {
      "cell_type": "code",
      "metadata": {
        "id": "6OFnPCLADfll"
      },
      "source": [
        "file_name = \"myDataFrame.csv\""
      ],
      "execution_count": 17,
      "outputs": []
    },
    {
      "cell_type": "code",
      "metadata": {
        "id": "-Z6okFD8VKtS"
      },
      "source": [
        ""
      ],
      "execution_count": 17,
      "outputs": []
    },
    {
      "cell_type": "markdown",
      "metadata": {
        "id": "LdpZQXknFNY3"
      },
      "source": [
        "## Mental health professional trains the GPT-2 model\n",
        "\n",
        "Providing a single-column CSV will automatically add `<|startoftext|>` and `<|endoftext|>` tokens appropriately.\n",
        "\n",
        "Short form text is more likely to overfit, so train it with fewer steps than you would for longform content."
      ]
    },
    {
      "cell_type": "code",
      "metadata": {
        "colab": {
          "base_uri": "https://localhost:8080/"
        },
        "id": "aeXshJM-Cuaf",
        "outputId": "9d869ed3-aa67-4143-9fd0-43742cf191bf"
      },
      "source": [
        "sess = gpt2.start_tf_sess()\n",
        "\n",
        "gpt2.finetune(sess,\n",
        "              dataset=file_name,\n",
        "              model_name='124M',\n",
        "              steps=100,\n",
        "              restore_from='fresh',\n",
        "              run_name='run2',\n",
        "              print_every=10,\n",
        "              sample_every=90\n",
        "              )"
      ],
      "execution_count": 18,
      "outputs": [
        {
          "output_type": "stream",
          "name": "stdout",
          "text": [
            "Loading checkpoint models/124M/model.ckpt\n",
            "INFO:tensorflow:Restoring parameters from models/124M/model.ckpt\n",
            "Loading dataset...\n"
          ]
        },
        {
          "output_type": "stream",
          "name": "stderr",
          "text": [
            "100%|██████████| 1/1 [00:00<00:00, 117.85it/s]\n"
          ]
        },
        {
          "output_type": "stream",
          "name": "stdout",
          "text": [
            "dataset has 145141 tokens\n",
            "Training...\n",
            "[10 | 46.46] loss=0.68 avg=0.68\n",
            "[20 | 87.84] loss=0.42 avg=0.55\n",
            "[30 | 129.39] loss=0.35 avg=0.48\n",
            "[40 | 170.99] loss=0.33 avg=0.44\n",
            "[50 | 212.50] loss=0.32 avg=0.42\n",
            "[60 | 254.36] loss=0.31 avg=0.40\n",
            "[70 | 296.28] loss=0.31 avg=0.39\n",
            "[80 | 338.03] loss=0.31 avg=0.37\n",
            "[90 | 379.91] loss=0.31 avg=0.37\n",
            "======== SAMPLE 1 ========\n",
            " me me so low  .Let me feel thankful that   i have a supportive family<|endoftext|>\n",
            "<|startoftext|>lost my job  i am mentally depressed  . I know  i have managed worser things than this<|endoftext|>\n",
            "<|startoftext|>i am so low and i am unemployed   .Let me recollect that  i have saved enough<|endoftext|>\n",
            "<|startoftext|>lost my job  i am tired of life ,   i have lot of hope on the future<|endoftext|>\n",
            "<|startoftext|>lost my job   i am depressed all night  . i remember my family is so supportive<|endoftext|>\n",
            "<|startoftext|>i am unable to pay bill  and i am depressed  . Let me feel thankful that   i have lot of hope on the future<|endoftext|>\n",
            "<|startoftext|>i got fired  i got depressed  . I know  my friend is kind to me<|endoftext|>\n",
            "<|startoftext|>i am unemployed  i am so much in sorrow ,  i am cool<|endoftext|>\n",
            "<|startoftext|>lost my job  and i am tired of life  . Let me feel thankful that  i am well qualified<|endoftext|>\n",
            "<|startoftext|>i am mentally depressed  lost my job  , but fortunately  i have saved enough<|endoftext|>\n",
            "<|startoftext|>i am so low  i am unemployed   , but luckily for me  i am good<|endoftext|>\n",
            "<|startoftext|>i am depressed all night and lost my job   , but luckily for me  i am well educated<|endoftext|>\n",
            "<|startoftext|>i am unable to pay bill   i am depressed all night  . Let me keep remembering that  my family is so supportive<|endoftext|>\n",
            "<|startoftext|>i am unable to pay bill   i am mentally depressed , but fortunately  my family is so supportive<|endoftext|>\n",
            "<|startoftext|>i am depressed all night and lost my job   . Let me feel thankful that  i am cool<|endoftext|>\n",
            "<|startoftext|>i got fired   i am depressed  .Let me recollect that  my family is so supportive<|endoftext|>\n",
            "<|startoftext|>i am depressed all night and i am unemployed   . I know  i am very smart<|endoftext|>\n",
            "<|startoftext|>i am unable to pay bill   i am depressed , but fortunately  i have managed worser things than this<|endoftext|>\n",
            "<|startoftext|>i am unable to pay bill   i am so low  . Let me feel thankful that  my firends say i am smart<|endoftext|>\n",
            "<|startoftext|>i am depressed all night and i am unemployed   . Let me keep remembering that  i am well educated<|endoftext|>\n",
            "<|startoftext|>i got fired   i am so low  . Let me feel thankful that  i am well qualified<|endoftext|>\n",
            "<|startoftext|>i am so much in sorrow and i am unemployed   . I know  my family is so supportive<|endoftext|>\n",
            "<|startoftext|>i am depressed  i am unemployed   . Let me feel thankful that  i am intelligent<|endoftext|>\n",
            "<|startoftext|>lost my job  and i am depressed  . Let me feel thankful that  my family say i am smart compared to others<|endoftext|>\n",
            "<|startoftext|>i got fired   i am so much in sorrow , but fortunately  my firends say i am smart<|endoftext|>\n",
            "<|startoftext|>i am unable to pay bill   i am so low  . Let me feel thankful that  i am intelligent<|endoftext|>\n",
            "<|startoftext|>i got fired  and i am so low  . Let me feel thankful that  i am well educated<|endoftext|>\n",
            "<|startoftext|>i am depressed all night i am unable to pay bill  , but fortunately  i am quite smart <|endoftext|>\n",
            "<|startoftext|>lost my job   i am depressed all night \n",
            "\n",
            "[100 | 441.97] loss=0.30 avg=0.36\n",
            "Saving checkpoint/run2/model-100\n"
          ]
        }
      ]
    },
    {
      "cell_type": "code",
      "metadata": {
        "id": "gpCG6XlPyNaR"
      },
      "source": [
        ""
      ],
      "execution_count": 18,
      "outputs": []
    },
    {
      "cell_type": "code",
      "metadata": {
        "id": "VHdTL8NDbAh3"
      },
      "source": [
        "#gpt2.copy_checkpoint_to_gdrive(run_name='run1')"
      ],
      "execution_count": 19,
      "outputs": []
    },
    {
      "cell_type": "markdown",
      "metadata": {
        "id": "pel-uBULXO2L"
      },
      "source": [
        "## Load a Trained Model Checkpoint"
      ]
    },
    {
      "cell_type": "code",
      "metadata": {
        "id": "DCcx5u7sbPTD"
      },
      "source": [
        "#@title\n",
        "#gpt2.copy_checkpoint_from_gdrive(run_name='run1')"
      ],
      "execution_count": 20,
      "outputs": []
    },
    {
      "cell_type": "code",
      "metadata": {
        "id": "-fxL77nvAMAX"
      },
      "source": [
        "#@title\n",
        "#sess = gpt2.start_tf_sess()\n",
        "#gpt2.load_gpt2(sess, run_name='run2')"
      ],
      "execution_count": 21,
      "outputs": []
    },
    {
      "cell_type": "markdown",
      "metadata": {
        "id": "ClJwpF_ACONp"
      },
      "source": [
        "## The patient can use this AI for instant CBT therapy \n",
        "\n"
      ]
    },
    {
      "cell_type": "code",
      "metadata": {
        "colab": {
          "base_uri": "https://localhost:8080/"
        },
        "id": "Da7Rp9z31iLL",
        "outputId": "df6abe18-86b6-4626-b396-1fb6ee73ffec"
      },
      "source": [
        "#@title The user speaks or types her thoughts into her smartphone AI keyboard. { run: \"auto\" }\n",
        " \n",
        "user_thoughts = 'i was fired from my job' #@param {type:\"string\"}\n",
        "\n",
        "userthoughts = \"<|startoftext|> \" +  user_thoughts\n",
        "\n",
        "gpt2.generate(sess, run_name='run2',\n",
        "             length=100,\n",
        "             prefix=userthoughts,\n",
        "             truncate=\"<|endoftext|>\",\n",
        "             include_prefix=False)\n",
        "\n",
        "\n"
      ],
      "execution_count": 22,
      "outputs": [
        {
          "output_type": "stream",
          "name": "stdout",
          "text": [
            "   . Let me feel thankful that  i am cool\n"
          ]
        }
      ]
    },
    {
      "cell_type": "code",
      "metadata": {
        "colab": {
          "base_uri": "https://localhost:8080/"
        },
        "id": "LH1toY7gBxdP",
        "outputId": "592dc40c-ff2a-43c6-bf2d-046f1cedc668"
      },
      "source": [
        " gpt2.generate(sess, run_name='run2',\n",
        "              length=100,\n",
        "              temperature=1.0,\n",
        "              nsamples=10,\n",
        "              batch_size=10,\n",
        "              prefix=userthoughts,\n",
        "              truncate=\"<|endoftext|>\",\n",
        "              include_prefix=False\n",
        "              )"
      ],
      "execution_count": 23,
      "outputs": [
        {
          "output_type": "stream",
          "name": "stdout",
          "text": [
            "   .   i have a supportive family\n",
            "====================\n",
            "  and i feel so low  . Let me feel thankful that   i have lot of hope on the future\n",
            "====================\n",
            "   i am so much in sorrow\n",
            "====================\n",
            "   . I know , but fortunately  i am very smart\n",
            "====================\n",
            "  i am so much in sorrow  . Let me feel thankful that  i am very smart\n",
            "====================\n",
            "   .  my firends say i am smart\n",
            "====================\n",
            "   .  my family is so supportive\n",
            "====================\n",
            "   . i remember  i have a supportive family\n",
            "====================\n",
            "   ,  i am intelligent\n",
            "====================\n",
            "   . i remember my friend is kind to me\n",
            "====================\n"
          ]
        }
      ]
    },
    {
      "cell_type": "code",
      "metadata": {
        "colab": {
          "base_uri": "https://localhost:8080/"
        },
        "id": "ZuiixKum1y5Z",
        "outputId": "cdfadab2-6ac1-46db-c6fe-fc62ce590295"
      },
      "source": [
        "gpt2.generate(sess, run_name='run2',\n",
        "              length=100,\n",
        "              temperature=1.0,\n",
        "              nsamples=10,\n",
        "              batch_size=10,\n",
        "              prefix=userthoughts,\n",
        "              truncate=\"<|endoftext|>\",\n",
        "              include_prefix=False\n",
        "              )"
      ],
      "execution_count": 24,
      "outputs": [
        {
          "output_type": "stream",
          "name": "stdout",
          "text": [
            "   . I know  i am smart\n",
            "====================\n",
            "   . Let me feel thankful that   i have a supportive family\n",
            "====================\n",
            "   i am depressed  . I know  i am good\n",
            "====================\n",
            "   .  i have a good reputation\n",
            "====================\n",
            "   i am mentally depressed  . Let me feel thankful that  my family is so supportive\n",
            "====================\n",
            "  and i am so much in sorrow . i am intelligent\n",
            "====================\n",
            "   . Let me feel thankful that  my friend is kind to me\n",
            "====================\n",
            "  i am depressed  .  i have managed worser things than this\n",
            "====================\n",
            "   .Let me recollect that   i have a supportive family\n",
            "====================\n",
            "   i am depressed all night  . Let me feel thankful that  my family say i am smart compared to others\n",
            "====================\n"
          ]
        }
      ]
    },
    {
      "cell_type": "code",
      "metadata": {
        "id": "4RNY6RBI9LmL"
      },
      "source": [
        " "
      ],
      "execution_count": 24,
      "outputs": []
    },
    {
      "cell_type": "code",
      "metadata": {
        "id": "B02_twQ3ogyI"
      },
      "source": [
        " "
      ],
      "execution_count": 24,
      "outputs": []
    },
    {
      "cell_type": "markdown",
      "source": [
        "**End of GPT2 Lab**"
      ],
      "metadata": {
        "id": "mYJDGt3evL1O"
      }
    },
    {
      "cell_type": "code",
      "metadata": {
        "id": "8DKMc0fiej4N"
      },
      "source": [
        "LAB ENDS HERE"
      ],
      "execution_count": 24,
      "outputs": []
    },
    {
      "cell_type": "markdown",
      "metadata": {
        "id": "J76IkIY2UjQu"
      },
      "source": [
        "# train BERT to prepare a new AI model on BERT--GPT2 cascade  "
      ]
    },
    {
      "cell_type": "code",
      "metadata": {
        "id": "bWwBjzF5qN-m"
      },
      "source": [
        " #@title\n",
        "# import lots of stuff\n",
        "# install ktrain on Google Colab\n",
        "!pip3 install ktrain==0.7.2\n",
        "\n",
        "# import ktrain and the ktrain.text modules\n",
        "import ktrain\n",
        "from ktrain import text\n",
        "import random\n",
        "\n",
        "ktrain.__version__\n",
        "\n",
        " \n",
        "\n"
      ],
      "execution_count": null,
      "outputs": []
    },
    {
      "cell_type": "code",
      "metadata": {
        "id": "Fa6p6arifSL0"
      },
      "source": [
        " \n",
        "# fetch the dataset using scikit-learn\n",
        "categories = ['alt.atheism', 'soc.religion.christian',\n",
        "             'comp.graphics', 'sci.med', 'comp.sys.mac.hardware', 'sci.space', 'misc.forsale', 'rec.motorcycles']\n",
        "from sklearn.datasets import fetch_20newsgroups\n",
        "train_b = fetch_20newsgroups(subset='train',\n",
        "   categories=categories, shuffle=True, random_state=42)\n",
        "test_b = fetch_20newsgroups(subset='test',\n",
        "   categories=categories, shuffle=True, random_state=42)\n",
        "\n",
        "print('size of training set: %s' % (len(train_b['data'])))\n",
        "print('size of validation set: %s' % (len(test_b['data'])))"
      ],
      "execution_count": null,
      "outputs": []
    },
    {
      "cell_type": "code",
      "metadata": {
        "id": "SzthixM6hCcq"
      },
      "source": [
        "import copy \n",
        "train_IsTopiconHealth = copy.deepcopy(train_b)  "
      ],
      "execution_count": null,
      "outputs": []
    },
    {
      "cell_type": "code",
      "metadata": {
        "id": "m9STE4dwjeGs"
      },
      "source": [
        "for i in range(0, len(train_b['data'])  ):\n",
        "  aLISTOFDEPRESSIONSITATION = getaRandomword(LISTOFDEPRESSIONSITATION)\n",
        "  aLISTOFDEPRESSIONTHOUGHTS = getaRandomword(LISTOFDEPRESSIONTHOUGHTS)\n",
        "  aLISTOFCBTBELFIFS = getaRandomword(LISTOFCBTBELFIFS)\n",
        "  aLISTOFCBTBELFIFSCONNECTIONS = getaRandomword(LISTOFCBTBELFIFSCONNECTIONS)\n",
        "  asentance = getaRandomsequence(aLISTOFDEPRESSIONSITATION , aLISTOFDEPRESSIONTHOUGHTS)  \n",
        "  LabelIsThisSentanceTalkingAboutHealth = 0\n",
        "  if i%2 == 0 :\n",
        "    LabelIsThisSentanceTalkingAboutHealth = 1\n",
        "    train_IsTopiconHealth.target[i] =  LabelIsThisSentanceTalkingAboutHealth\n",
        "    arandomnumber = random.randint(0,1)\n",
        "    if arandomnumber == 0:\n",
        "      asentance = getaRandomsequence(aLISTOFDEPRESSIONSITATION , aLISTOFDEPRESSIONTHOUGHTS)  \n",
        "    else :\n",
        "      asentance =   aLISTOFDEPRESSIONTHOUGHTS\n",
        "    \n",
        "    train_IsTopiconHealth.data[i] = asentance\n",
        "\n",
        "  if i%2 == 1 :\n",
        "    LabelIsThisSentanceTalkingAboutHealth = 0\n",
        "    train_IsTopiconHealth.target[i] =  LabelIsThisSentanceTalkingAboutHealth\n",
        "    asentance =  aLISTOFDEPRESSIONSITATION \n",
        "    train_IsTopiconHealth.data[i] = asentance\n",
        "\n",
        "\n",
        "\n",
        "\n"
      ],
      "execution_count": null,
      "outputs": []
    },
    {
      "cell_type": "code",
      "metadata": {
        "id": "xziHixNlkmIc"
      },
      "source": [
        "for i in range(0, 10 ):\n",
        "  print(str(train_IsTopiconHealth.target[i]) + '  ' + str(train_IsTopiconHealth.data[i]))"
      ],
      "execution_count": null,
      "outputs": []
    },
    {
      "cell_type": "code",
      "metadata": {
        "id": "XGRZRY4XmT1k"
      },
      "source": [
        "x_train = train_IsTopiconHealth.data\n",
        "y_train = train_IsTopiconHealth.target\n",
        "\n",
        "x_test = train_IsTopiconHealth.data\n",
        "y_test = train_IsTopiconHealth.target\n",
        "categoriesNEW = [ 'NomentionofDepression', 'DepressionThoughts']\n",
        "\n",
        "\n",
        "\n",
        "(x_train,  y_train), (x_test, y_test), preproc = text.texts_from_array(x_train=x_train, y_train=y_train,\n",
        "                                                                       x_test=x_test, y_test=y_test,\n",
        "                                                                       class_names=categoriesNEW,\n",
        "                                                                       preprocess_mode='bert',\n",
        "                                                                       maxlen=128, \n",
        "                                                                       max_features=9500)\n",
        "\n",
        "model_IsTopiconTaste = text.text_classifier('bert', train_data=(x_train, y_train), preproc=preproc)\n",
        "learner_IsTopiconTaste = ktrain.get_learner(model_IsTopiconTaste, train_data=(x_train, y_train), batch_size=8)\n",
        "\n",
        "learner_IsTopiconTaste.fit_onecycle(2e-5, 1)\n",
        "\n"
      ],
      "execution_count": null,
      "outputs": []
    },
    {
      "cell_type": "code",
      "metadata": {
        "id": "49lUjVk7paHv"
      },
      "source": [
        "predictor_TastyorNOT = ktrain.get_predictor(learner_IsTopiconTaste.model, preproc)\n",
        "\n"
      ],
      "execution_count": null,
      "outputs": []
    },
    {
      "cell_type": "code",
      "metadata": {
        "id": "6p7LTqCOpRDp"
      },
      "source": [
        "print(predictor_TastyorNOT.predict('lost job'))\n"
      ],
      "execution_count": null,
      "outputs": []
    },
    {
      "cell_type": "markdown",
      "metadata": {
        "id": "y9zAy-mTqEXD"
      },
      "source": [
        "# Run with BERT-GPT2 cascade"
      ]
    },
    {
      "cell_type": "code",
      "metadata": {
        "id": "VJBgVgwcqIEO",
        "cellView": "form"
      },
      "source": [
        "#@title The user speaks or types her thoughts into her smartphone AI keyboard. { run: \"auto\" }\n",
        " \n",
        "user_current_thoughts = 'i got  fired.  I am feeling alone and tired for many days' #@param {type:\"string\"}\n",
        "\n",
        "prediction = predictor_TastyorNOT.predict(user_current_thoughts)\n",
        "\n",
        "\n",
        "user_current_thoughts = \"<|startoftext|> \" +  user_current_thoughts\n",
        "\n",
        "if prediction == 'DepressionThoughts' :\n",
        "\n",
        "  gpt2.generate(sess, run_name='run2',\n",
        "             length=100,\n",
        "             prefix=user_current_thoughts,\n",
        "             truncate=\"<|endoftext|>\",\n",
        "             include_prefix=False)\n",
        "else:\n",
        "  print(' <Therapy AI yet to be activated>')\n",
        "\n"
      ],
      "execution_count": null,
      "outputs": []
    },
    {
      "cell_type": "markdown",
      "metadata": {
        "id": "zD3pfywmW4PX"
      },
      "source": [
        "# Visuvalization of conditional language modelling for Cognitive Behaviour Therapy"
      ]
    },
    {
      "cell_type": "code",
      "metadata": {
        "id": "B_unQFFUZ8-2"
      },
      "source": [
        "gemeratedtext = gpt2.generate(sess, run_name='run2',\n",
        "             length=100,\n",
        "             prefix=userthoughts,\n",
        "             truncate=\"<|endoftext|>\",\n",
        "             include_prefix=True)\n"
      ],
      "execution_count": null,
      "outputs": []
    },
    {
      "cell_type": "code",
      "metadata": {
        "id": "p-e4zYJwbwQv"
      },
      "source": [
        "newstring\".format(\"John\",36)"
      ],
      "execution_count": null,
      "outputs": []
    },
    {
      "cell_type": "code",
      "metadata": {
        "id": "xNFCHxd0bXP_"
      },
      "source": [
        "type(gemeratedtext)"
      ],
      "execution_count": null,
      "outputs": []
    },
    {
      "cell_type": "code",
      "metadata": {
        "id": "SV035HCabEoS"
      },
      "source": [
        "mystring = gemeratedtext.replace(\"<|startoftext|>\",'')"
      ],
      "execution_count": null,
      "outputs": []
    },
    {
      "cell_type": "code",
      "metadata": {
        "id": "HD_8FjspaHHp"
      },
      "source": [
        "print(gemeratedtext)"
      ],
      "execution_count": null,
      "outputs": []
    },
    {
      "cell_type": "code",
      "metadata": {
        "id": "ZEiBxQIuXH-E"
      },
      "source": [
        "import sys\n",
        "!test -d bertviz_repo && echo \"FYI: bertviz_repo directory already exists, to pull latest version uncomment this line: !rm -r bertviz_repo\"\n",
        "# !rm -r bertviz_repo # Uncomment if you need a clean pull from repo\n",
        "!test -d bertviz_repo || git clone https://github.com/jessevig/bertviz bertviz_repo\n",
        "if not 'bertviz_repo' in sys.path:\n",
        "  sys.path += ['bertviz_repo']\n",
        "!pip install regex\n",
        "!pip install transformers"
      ],
      "execution_count": null,
      "outputs": []
    },
    {
      "cell_type": "code",
      "metadata": {
        "id": "y3sV19_PXJn9"
      },
      "source": [
        "from bertviz import head_view\n",
        "from transformers import GPT2Tokenizer, GPT2Model"
      ],
      "execution_count": null,
      "outputs": []
    },
    {
      "cell_type": "code",
      "metadata": {
        "id": "ZV18l1jFXM3G"
      },
      "source": [
        "def call_html():\n",
        "  import IPython\n",
        "  display(IPython.core.display.HTML('''\n",
        "        <script src=\"/static/components/requirejs/require.js\"></script>\n",
        "        <script>\n",
        "          requirejs.config({\n",
        "            paths: {\n",
        "              base: '/static/base',\n",
        "              \"d3\": \"https://cdnjs.cloudflare.com/ajax/libs/d3/3.5.8/d3.min\",\n",
        "              jquery: '//ajax.googleapis.com/ajax/libs/jquery/2.0.0/jquery.min',\n",
        "            },\n",
        "          });\n",
        "        </script>\n",
        "        '''))"
      ],
      "execution_count": null,
      "outputs": []
    },
    {
      "cell_type": "code",
      "metadata": {
        "id": "hnppoQjuZ75_"
      },
      "source": [
        ""
      ],
      "execution_count": null,
      "outputs": []
    },
    {
      "cell_type": "code",
      "metadata": {
        "id": "g6fVMkrxXOkx"
      },
      "source": [
        "model_version = 'gpt2'\n",
        "model = GPT2Model.from_pretrained(model_version, output_attentions=True)\n",
        "tokenizer = GPT2Tokenizer.from_pretrained(model_version)\n",
        "\n",
        "text = gemeratedtext\n",
        "inputs = tokenizer.encode_plus(text, return_tensors='pt', add_special_tokens=False)\n",
        "input_ids = inputs['input_ids']\n",
        "attention = model(input_ids)[-1]\n",
        "input_id_list = input_ids[0].tolist() # Batch index 0\n",
        "tokens = tokenizer.convert_ids_to_tokens(input_id_list)\n",
        "call_html()\n",
        "head_view(attention, tokens)"
      ],
      "execution_count": null,
      "outputs": []
    }
  ]
}