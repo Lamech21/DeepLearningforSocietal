{
  "nbformat": 4,
  "nbformat_minor": 0,
  "metadata": {
    "accelerator": "GPU",
    "colab": {
      "name": "Copy of Copy of Copy of Vision Transformers SEM paper1 PreTrained.ipynb",
      "provenance": [],
      "include_colab_link": true
    },
    "kernelspec": {
      "display_name": "Python 3",
      "name": "python3"
    },
    "language_info": {
      "name": "python"
    }
  },
  "cells": [
    {
      "cell_type": "markdown",
      "metadata": {
        "id": "view-in-github",
        "colab_type": "text"
      },
      "source": [
        "<a href=\"https://colab.research.google.com/github/rajagopalmotivate/DeepLearningforSocietal/blob/main/Vision_Transformers_apply.ipynb\" target=\"_parent\"><img src=\"https://colab.research.google.com/assets/colab-badge.svg\" alt=\"Open In Colab\"/></a>"
      ]
    },
    {
      "cell_type": "code",
      "metadata": {
        "id": "BEphdJ7u2McE"
      },
      "source": [
        ""
      ],
      "execution_count": null,
      "outputs": []
    },
    {
      "cell_type": "code",
      "metadata": {
        "id": "9zakUPIvS2Bp"
      },
      "source": [
        ""
      ],
      "execution_count": null,
      "outputs": []
    },
    {
      "cell_type": "code",
      "metadata": {
        "colab": {
          "base_uri": "https://localhost:8080/"
        },
        "id": "_6OLOY8x4UEK",
        "outputId": "4a7abe29-e9fd-4dc7-e004-9d79a378f53e"
      },
      "source": [
        "!pip install tensorflow_addons"
      ],
      "execution_count": 1,
      "outputs": [
        {
          "output_type": "stream",
          "name": "stdout",
          "text": [
            "Collecting tensorflow_addons\n",
            "  Downloading tensorflow_addons-0.15.0-cp37-cp37m-manylinux_2_12_x86_64.manylinux2010_x86_64.whl (1.1 MB)\n",
            "\u001b[K     |████████████████████████████████| 1.1 MB 5.6 MB/s \n",
            "\u001b[?25hRequirement already satisfied: typeguard>=2.7 in /usr/local/lib/python3.7/dist-packages (from tensorflow_addons) (2.7.1)\n",
            "Installing collected packages: tensorflow-addons\n",
            "Successfully installed tensorflow-addons-0.15.0\n"
          ]
        }
      ]
    },
    {
      "cell_type": "code",
      "metadata": {
        "id": "6ZQOPXrQ4NMd"
      },
      "source": [
        ""
      ],
      "execution_count": 1,
      "outputs": []
    },
    {
      "cell_type": "code",
      "metadata": {
        "colab": {
          "base_uri": "https://localhost:8080/"
        },
        "id": "QvE5JS0j4bYQ",
        "outputId": "32ad9287-6d87-4921-c0c7-bf0b9e072b30"
      },
      "source": [
        "import pandas as pd\n",
        "import numpy as np\n",
        "import tensorflow as tf\n",
        "import tensorflow_addons as tfa\n",
        "import glob, warnings\n",
        "import matplotlib.pyplot as plt\n",
        "from sklearn.metrics import confusion_matrix, classification_report\n",
        "import seaborn as sns\n",
        "\n",
        "warnings.filterwarnings('ignore')\n",
        "print('TensorFlow Version ' + tf.__version__)"
      ],
      "execution_count": 2,
      "outputs": [
        {
          "output_type": "stream",
          "name": "stdout",
          "text": [
            "TensorFlow Version 2.7.0\n"
          ]
        }
      ]
    },
    {
      "cell_type": "code",
      "metadata": {
        "colab": {
          "base_uri": "https://localhost:8080/"
        },
        "id": "DjRLiu7W4fZA",
        "outputId": "77835890-f2c2-4da0-e56f-8b2eee51692d"
      },
      "source": [
        "!wget https://b2share.eudat.eu/api/files/e3126ced-cb0b-4fde-a081-1aad550cae86/MEMS_devices_and_electrodes.tar -O /tmp/dir1.tar"
      ],
      "execution_count": 3,
      "outputs": [
        {
          "output_type": "stream",
          "name": "stdout",
          "text": [
            "--2021-12-12 15:27:41--  https://b2share.eudat.eu/api/files/e3126ced-cb0b-4fde-a081-1aad550cae86/MEMS_devices_and_electrodes.tar\n",
            "Resolving b2share.eudat.eu (b2share.eudat.eu)... 86.50.166.74\n",
            "Connecting to b2share.eudat.eu (b2share.eudat.eu)|86.50.166.74|:443... connected.\n",
            "HTTP request sent, awaiting response... 200 OK\n",
            "Length: 3305451520 (3.1G) [application/octet-stream]\n",
            "Saving to: ‘/tmp/dir1.tar’\n",
            "\n",
            "/tmp/dir1.tar       100%[===================>]   3.08G  21.9MB/s    in 2m 29s  \n",
            "\n",
            "2021-12-12 15:30:10 (21.2 MB/s) - ‘/tmp/dir1.tar’ saved [3305451520/3305451520]\n",
            "\n"
          ]
        }
      ]
    },
    {
      "cell_type": "code",
      "metadata": {
        "colab": {
          "base_uri": "https://localhost:8080/"
        },
        "id": "JHfk6d6g4oVr",
        "outputId": "3293adbd-9323-4357-93be-8f93db12dd3d"
      },
      "source": [
        "!wget https://b2share.eudat.eu/api/files/e3126ced-cb0b-4fde-a081-1aad550cae86/Particles.tar -O /tmp/dir2.tar\n"
      ],
      "execution_count": 4,
      "outputs": [
        {
          "output_type": "stream",
          "name": "stdout",
          "text": [
            "--2021-12-12 15:30:10--  https://b2share.eudat.eu/api/files/e3126ced-cb0b-4fde-a081-1aad550cae86/Particles.tar\n",
            "Resolving b2share.eudat.eu (b2share.eudat.eu)... 86.50.166.74\n",
            "Connecting to b2share.eudat.eu (b2share.eudat.eu)|86.50.166.74|:443... connected.\n",
            "HTTP request sent, awaiting response... 200 OK\n",
            "Length: 2519879680 (2.3G) [application/octet-stream]\n",
            "Saving to: ‘/tmp/dir2.tar’\n",
            "\n",
            "/tmp/dir2.tar       100%[===================>]   2.35G  21.6MB/s    in 1m 54s  \n",
            "\n",
            "2021-12-12 15:32:06 (21.0 MB/s) - ‘/tmp/dir2.tar’ saved [2519879680/2519879680]\n",
            "\n"
          ]
        }
      ]
    },
    {
      "cell_type": "code",
      "metadata": {
        "id": "cFC7rF5xGydk",
        "colab": {
          "base_uri": "https://localhost:8080/"
        },
        "outputId": "41a52452-f31f-401c-f94c-4873aba1ac2a"
      },
      "source": [
        "!wget https://b2share.eudat.eu/api/files/e3126ced-cb0b-4fde-a081-1aad550cae86/Nanowires.tar -O /tmp/dir3.tar"
      ],
      "execution_count": 5,
      "outputs": [
        {
          "output_type": "stream",
          "name": "stdout",
          "text": [
            "--2021-12-12 15:32:06--  https://b2share.eudat.eu/api/files/e3126ced-cb0b-4fde-a081-1aad550cae86/Nanowires.tar\n",
            "Resolving b2share.eudat.eu (b2share.eudat.eu)... 86.50.166.74\n",
            "Connecting to b2share.eudat.eu (b2share.eudat.eu)|86.50.166.74|:443... connected.\n",
            "HTTP request sent, awaiting response... 200 OK\n",
            "Length: 2203371520 (2.1G) [application/octet-stream]\n",
            "Saving to: ‘/tmp/dir3.tar’\n",
            "\n",
            "/tmp/dir3.tar       100%[===================>]   2.05G  21.6MB/s    in 99s     \n",
            "\n",
            "2021-12-12 15:33:46 (21.3 MB/s) - ‘/tmp/dir3.tar’ saved [2203371520/2203371520]\n",
            "\n"
          ]
        }
      ]
    },
    {
      "cell_type": "code",
      "metadata": {
        "id": "GkPtKmr-HCeK",
        "colab": {
          "base_uri": "https://localhost:8080/"
        },
        "outputId": "6689aa3c-882f-4678-c502-6116f01f26fe"
      },
      "source": [
        "!wget https://b2share.eudat.eu/api/files/e3126ced-cb0b-4fde-a081-1aad550cae86/Patterned_surface.tar  -O /tmp/dir4.tar"
      ],
      "execution_count": 6,
      "outputs": [
        {
          "output_type": "stream",
          "name": "stdout",
          "text": [
            "--2021-12-12 15:33:46--  https://b2share.eudat.eu/api/files/e3126ced-cb0b-4fde-a081-1aad550cae86/Patterned_surface.tar\n",
            "Resolving b2share.eudat.eu (b2share.eudat.eu)... 86.50.166.74\n",
            "Connecting to b2share.eudat.eu (b2share.eudat.eu)|86.50.166.74|:443... connected.\n",
            "HTTP request sent, awaiting response... 200 OK\n",
            "Length: 2874941440 (2.7G) [application/octet-stream]\n",
            "Saving to: ‘/tmp/dir4.tar’\n",
            "\n",
            "/tmp/dir4.tar       100%[===================>]   2.68G  21.7MB/s    in 2m 9s   \n",
            "\n",
            "2021-12-12 15:35:56 (21.3 MB/s) - ‘/tmp/dir4.tar’ saved [2874941440/2874941440]\n",
            "\n"
          ]
        }
      ]
    },
    {
      "cell_type": "code",
      "metadata": {
        "colab": {
          "base_uri": "https://localhost:8080/"
        },
        "id": "VVJe3-j-54D4",
        "outputId": "3c371a64-0c14-49de-fa3c-949c866f803f"
      },
      "source": [
        "!rm -r mynewfiles\n",
        "!mkdir mynewfiles"
      ],
      "execution_count": 7,
      "outputs": [
        {
          "output_type": "stream",
          "name": "stdout",
          "text": [
            "rm: cannot remove 'mynewfiles': No such file or directory\n"
          ]
        }
      ]
    },
    {
      "cell_type": "code",
      "metadata": {
        "id": "ioHgmlRi4xrm"
      },
      "source": [
        "!tar xf  /tmp/dir1.tar -C mynewfiles"
      ],
      "execution_count": 8,
      "outputs": []
    },
    {
      "cell_type": "code",
      "metadata": {
        "id": "Ke-lxy084wIp"
      },
      "source": [
        "!tar xf  /tmp/dir2.tar -C mynewfiles"
      ],
      "execution_count": 9,
      "outputs": []
    },
    {
      "cell_type": "code",
      "metadata": {
        "id": "v-M0QAsTHE5y"
      },
      "source": [
        ""
      ],
      "execution_count": 9,
      "outputs": []
    },
    {
      "cell_type": "code",
      "metadata": {
        "id": "SAagD6ut5CgX"
      },
      "source": [
        "def data_augment(image):\n",
        "    p_spatial = tf.random.uniform([], 0, 1.0, dtype = tf.float32)\n",
        "    p_rotate = tf.random.uniform([], 0, 1.0, dtype = tf.float32)\n",
        "    p_pixel_1 = tf.random.uniform([], 0, 1.0, dtype = tf.float32)\n",
        "    p_pixel_2 = tf.random.uniform([], 0, 1.0, dtype = tf.float32)\n",
        "    p_pixel_3 = tf.random.uniform([], 0, 1.0, dtype = tf.float32)\n",
        "    \n",
        "    # Flips\n",
        "    image = tf.image.random_flip_left_right(image)\n",
        "    image = tf.image.random_flip_up_down(image)\n",
        "    \n",
        "    if p_spatial > .75:\n",
        "        image = tf.image.transpose(image)\n",
        "        \n",
        "    # Rotates\n",
        "    if p_rotate > .75:\n",
        "        image = tf.image.rot90(image, k = 3) # rotate 270º\n",
        "    elif p_rotate > .5:\n",
        "        image = tf.image.rot90(image, k = 2) # rotate 180º\n",
        "    elif p_rotate > .25:\n",
        "        image = tf.image.rot90(image, k = 1) # rotate 90º\n",
        "        \n",
        "    # Pixel-level transforms\n",
        "    if p_pixel_1 >= .4:\n",
        "        image = tf.image.random_saturation(image, lower = .7, upper = 1.3)\n",
        "    if p_pixel_2 >= .4:\n",
        "        image = tf.image.random_contrast(image, lower = .8, upper = 1.2)\n",
        "    if p_pixel_3 >= .4:\n",
        "        image = tf.image.random_brightness(image, max_delta = .1)\n",
        "        \n",
        "    return image"
      ],
      "execution_count": 10,
      "outputs": []
    },
    {
      "cell_type": "code",
      "metadata": {
        "id": "0RtEK1ZR8PDJ"
      },
      "source": [
        "datagen = tf.keras.preprocessing.image.ImageDataGenerator(rescale = 1./255,\n",
        "                                                          samplewise_center = True,\n",
        "                                                          samplewise_std_normalization = True,\n",
        "                                                          validation_split = 0.2,\n",
        "                                                          preprocessing_function = data_augment)"
      ],
      "execution_count": 11,
      "outputs": []
    },
    {
      "cell_type": "code",
      "metadata": {
        "colab": {
          "base_uri": "https://localhost:8080/"
        },
        "id": "5eF4s6334yXE",
        "outputId": "77efb388-31c8-45dc-d1f9-3761f13b9b81"
      },
      "source": [
        "TRAINING_DIR = \"mynewfiles/\"\n",
        "SIZE = 224\n",
        "\n",
        "\n",
        "train_generator = datagen.flow_from_directory(\n",
        "    TRAINING_DIR, \n",
        "    subset='training',\n",
        "    target_size=(SIZE,SIZE),\n",
        "         shuffle=True,     batch_size=16,\n",
        "\t  class_mode='categorical'\n",
        ")"
      ],
      "execution_count": 12,
      "outputs": [
        {
          "output_type": "stream",
          "name": "stdout",
          "text": [
            "Found 6791 images belonging to 2 classes.\n"
          ]
        }
      ]
    },
    {
      "cell_type": "code",
      "metadata": {
        "colab": {
          "base_uri": "https://localhost:8080/"
        },
        "id": "gGRlQ9id-zBL",
        "outputId": "d1bcfd40-e353-43cb-c451-394f935625f4"
      },
      "source": [
        "val_generator = datagen.flow_from_directory(\n",
        "    TRAINING_DIR, \n",
        "    subset='validation',\n",
        "    target_size=(SIZE,SIZE),\n",
        "         shuffle=True,     batch_size=64,\n",
        "\t  class_mode='categorical'\n",
        ")"
      ],
      "execution_count": 13,
      "outputs": [
        {
          "output_type": "stream",
          "name": "stdout",
          "text": [
            "Found 1697 images belonging to 2 classes.\n"
          ]
        }
      ]
    },
    {
      "cell_type": "code",
      "metadata": {
        "colab": {
          "base_uri": "https://localhost:8080/",
          "height": 860
        },
        "id": "ecQSNwdK5lwe",
        "outputId": "2c744f1e-f19a-469a-8727-5903900414ce"
      },
      "source": [
        "images = [train_generator[0][0][i] for i in range(16)]\n",
        "fig, axes = plt.subplots(3, 5, figsize = (10, 10))\n",
        "\n",
        "axes = axes.flatten()\n",
        "\n",
        "for img, ax in zip(images, axes):\n",
        "    ax.imshow(img.reshape(SIZE, SIZE, 3))\n",
        "    ax.axis('off')\n",
        "\n",
        "plt.tight_layout()\n",
        "plt.show()"
      ],
      "execution_count": 14,
      "outputs": [
        {
          "output_type": "stream",
          "name": "stderr",
          "text": [
            "Clipping input data to the valid range for imshow with RGB data ([0..1] for floats or [0..255] for integers).\n",
            "Clipping input data to the valid range for imshow with RGB data ([0..1] for floats or [0..255] for integers).\n",
            "Clipping input data to the valid range for imshow with RGB data ([0..1] for floats or [0..255] for integers).\n",
            "Clipping input data to the valid range for imshow with RGB data ([0..1] for floats or [0..255] for integers).\n",
            "Clipping input data to the valid range for imshow with RGB data ([0..1] for floats or [0..255] for integers).\n",
            "Clipping input data to the valid range for imshow with RGB data ([0..1] for floats or [0..255] for integers).\n",
            "Clipping input data to the valid range for imshow with RGB data ([0..1] for floats or [0..255] for integers).\n",
            "Clipping input data to the valid range for imshow with RGB data ([0..1] for floats or [0..255] for integers).\n",
            "Clipping input data to the valid range for imshow with RGB data ([0..1] for floats or [0..255] for integers).\n",
            "Clipping input data to the valid range for imshow with RGB data ([0..1] for floats or [0..255] for integers).\n",
            "Clipping input data to the valid range for imshow with RGB data ([0..1] for floats or [0..255] for integers).\n",
            "Clipping input data to the valid range for imshow with RGB data ([0..1] for floats or [0..255] for integers).\n",
            "Clipping input data to the valid range for imshow with RGB data ([0..1] for floats or [0..255] for integers).\n",
            "Clipping input data to the valid range for imshow with RGB data ([0..1] for floats or [0..255] for integers).\n",
            "Clipping input data to the valid range for imshow with RGB data ([0..1] for floats or [0..255] for integers).\n"
          ]
        },
        {
          "output_type": "display_data",
          "data": {
            "image/png": "[encoded data removed]",
            "text/plain": [
              "<Figure size 720x720 with 15 Axes>"
            ]
          },
          "metadata": {
            "needs_background": "light"
          }
        }
      ]
    },
    {
      "cell_type": "code",
      "metadata": {
        "id": "dpUeCIu2-DTN"
      },
      "source": [
        "!pip install --quiet vit-keras\n",
        "\n",
        "from vit_keras import vit"
      ],
      "execution_count": 15,
      "outputs": []
    },
    {
      "cell_type": "code",
      "metadata": {
        "id": "4baxe-ne-pwe"
      },
      "source": [
        "IMAGE_SIZE = SIZE"
      ],
      "execution_count": 16,
      "outputs": []
    },
    {
      "cell_type": "code",
      "metadata": {
        "colab": {
          "base_uri": "https://localhost:8080/"
        },
        "id": "A4LOIEgL-HjK",
        "outputId": "24997839-e10f-4339-ff9c-e766873454e5"
      },
      "source": [
        "vit_model = vit.vit_b32 (\n",
        "        image_size = (SIZE, SIZE), \n",
        "        activation = 'softmax',\n",
        "        pretrained = True,\n",
        "        include_top = True,\n",
        "        pretrained_top = False,\n",
        "        classes = 2)\n",
        "\n",
        "vit_model.trainable = True"
      ],
      "execution_count": 17,
      "outputs": [
        {
          "output_type": "stream",
          "name": "stdout",
          "text": [
            "Downloading data from https://github.com/faustomorales/vit-keras/releases/download/dl/ViT-B_32_imagenet21k+imagenet2012.npz\n",
            "353255424/353253686 [==============================] - 5s 0us/step\n",
            "353263616/353253686 [==============================] - 5s 0us/step\n"
          ]
        }
      ]
    },
    {
      "cell_type": "code",
      "metadata": {
        "id": "1qObAtsK_2oo"
      },
      "source": [
        "def trainAModel(model, epochs):\n",
        "  learning_rate = 1e-4\n",
        "\n",
        "  optimizer = tfa.optimizers.RectifiedAdam(learning_rate = learning_rate)\n",
        "\n",
        "  model.compile(optimizer = optimizer, \n",
        "                loss = tf.keras.losses.CategoricalCrossentropy(label_smoothing = 0.2), \n",
        "                metrics = ['accuracy'])\n",
        "\n",
        "  STEP_SIZE_TRAIN = train_generator.n // train_generator.batch_size\n",
        "  STEP_SIZE_VALID = val_generator.n // val_generator.batch_size\n",
        "\n",
        "  reduce_lr = tf.keras.callbacks.ReduceLROnPlateau(monitor = 'val_accuracy',\n",
        "                                                  factor = 0.2,\n",
        "                                                  patience = 2,\n",
        "                                                  verbose = 1,\n",
        "                                                  min_delta = 1e-4,\n",
        "                                                  min_lr = 1e-6,\n",
        "                                                  mode = 'max')\n",
        "\n",
        "  earlystopping = tf.keras.callbacks.EarlyStopping(monitor = 'val_accuracy',\n",
        "                                                  min_delta = 1e-4,\n",
        "                                                  patience = 5,\n",
        "                                                  mode = 'max',\n",
        "                                                  restore_best_weights = True,\n",
        "                                                  verbose = 1)\n",
        "\n",
        "  checkpointer = tf.keras.callbacks.ModelCheckpoint(filepath = './model.hdf5',\n",
        "                                                    monitor = 'val_accuracy', \n",
        "                                                    verbose = 1, \n",
        "                                                    save_best_only = True,\n",
        "                                                    save_weights_only = True,\n",
        "                                                    mode = 'max')\n",
        "  \n",
        "  tbCallBack = tf.keras.callbacks.TensorBoard(log_dir='./Graph', histogram_freq=0, write_graph=True, write_images=True)\n",
        "\n",
        "\n",
        "  callbacks = [earlystopping, reduce_lr, checkpointer, tbCallBack]\n",
        "\n",
        "  history = model.fit(x = train_generator,\n",
        "            steps_per_epoch = STEP_SIZE_TRAIN,\n",
        "            validation_data = val_generator ,\n",
        "            validation_steps = STEP_SIZE_VALID,\n",
        "            epochs = epochs,\n",
        "            callbacks = callbacks)\n",
        "\n",
        "  return history , model"
      ],
      "execution_count": 18,
      "outputs": []
    },
    {
      "cell_type": "code",
      "metadata": {
        "id": "yg2Kq7ngTyoi"
      },
      "source": [
        "img_inputs = tf.keras.Input(shape=(SIZE, SIZE, 3))\n",
        "\n",
        "layer1 = vit_model (img_inputs)\n",
        "layer2 = tf.keras.layers.Flatten()  (layer1)\n",
        "layer3 = tf.keras.layers.BatchNormalization()   (layer2)\n",
        "\n",
        "finallayer6 = tf.keras.layers.Dense(6, activation = tfa.activations.gelu)  (layer3)\n",
        "finallayer7 = tf.keras.layers.BatchNormalization()   (finallayer6)\n",
        "\n",
        "\n",
        "finallayer8 = tf.keras.layers.Dense(2, 'softmax')  (finallayer7)\n",
        "\n",
        "\n",
        "modelVIT1 = tf.keras.Model(inputs=img_inputs, outputs=finallayer8, name=\"Karunya\")\n",
        "\n"
      ],
      "execution_count": 19,
      "outputs": []
    },
    {
      "cell_type": "code",
      "metadata": {
        "id": "KeAG8w_pKlzS"
      },
      "source": [
        "modelVIT1.summary()"
      ],
      "execution_count": null,
      "outputs": []
    },
    {
      "cell_type": "code",
      "metadata": {
        "id": "yaSpUTpNKlwH"
      },
      "source": [
        "dot_img_file = '/tmp/model_1.png'\n",
        "tf.keras.utils.plot_model(vit_model, to_file=dot_img_file, show_shapes=True)"
      ],
      "execution_count": null,
      "outputs": []
    },
    {
      "cell_type": "code",
      "metadata": {
        "id": "BI8W_XvNNLFe"
      },
      "source": [
        "for i, layer in enumerate ( vit_model.layers):\n",
        "  print(i,  layer.trainable  , '  ',  layer.name, '  ')"
      ],
      "execution_count": null,
      "outputs": []
    },
    {
      "cell_type": "code",
      "metadata": {
        "colab": {
          "base_uri": "https://localhost:8080/"
        },
        "id": "ykLwws2fKo3z",
        "outputId": "83513972-0b8f-431d-fe4f-d64c03798c7a"
      },
      "source": [
        "historyvit_model , vit_modelTRAINED = trainAModel(vit_model , 2 )"
      ],
      "execution_count": 23,
      "outputs": [
        {
          "output_type": "stream",
          "name": "stdout",
          "text": [
            "Epoch 1/2\n",
            "424/424 [==============================] - ETA: 0s - loss: 0.4142 - accuracy: 0.9460\n",
            "Epoch 00001: val_accuracy improved from -inf to 0.98678, saving model to ./model.hdf5\n",
            "424/424 [==============================] - 522s 1s/step - loss: 0.4142 - accuracy: 0.9460 - val_loss: 0.3662 - val_accuracy: 0.9868 - lr: 1.0000e-04\n",
            "Epoch 2/2\n",
            "424/424 [==============================] - ETA: 0s - loss: 0.3544 - accuracy: 0.9897\n",
            "Epoch 00002: val_accuracy improved from 0.98678 to 0.99099, saving model to ./model.hdf5\n",
            "424/424 [==============================] - 481s 1s/step - loss: 0.3544 - accuracy: 0.9897 - val_loss: 0.3435 - val_accuracy: 0.9910 - lr: 1.0000e-04\n"
          ]
        }
      ]
    },
    {
      "cell_type": "code",
      "metadata": {
        "colab": {
          "base_uri": "https://localhost:8080/"
        },
        "id": "9sPlWnb2lPEl",
        "outputId": "adda920e-f081-4d1e-e8dc-38725a22145f"
      },
      "source": [
        "vit_modelTRAINED"
      ],
      "execution_count": 24,
      "outputs": [
        {
          "output_type": "execute_result",
          "data": {
            "text/plain": [
              "<keras.engine.functional.Functional at 0x7f8b4b8ba250>"
            ]
          },
          "metadata": {},
          "execution_count": 24
        }
      ]
    },
    {
      "cell_type": "code",
      "metadata": {
        "colab": {
          "base_uri": "https://localhost:8080/"
        },
        "id": "Ldzy9WYKSdcN",
        "outputId": "a98b0b35-ff62-4c51-80f2-9e70d7cb4b86"
      },
      "source": [
        "historyvit_model.history['accuracy']"
      ],
      "execution_count": 25,
      "outputs": [
        {
          "output_type": "execute_result",
          "data": {
            "text/plain": [
              "[0.9459778666496277, 0.9896678924560547]"
            ]
          },
          "metadata": {},
          "execution_count": 25
        }
      ]
    },
    {
      "cell_type": "code",
      "metadata": {
        "colab": {
          "base_uri": "https://localhost:8080/"
        },
        "id": "eHML-If6SzyG",
        "outputId": "71236889-d599-401e-8cef-b254f4e1af3d"
      },
      "source": [
        "historyvit_model.history['val_accuracy']"
      ],
      "execution_count": 26,
      "outputs": [
        {
          "output_type": "execute_result",
          "data": {
            "text/plain": [
              "[0.9867788553237915, 0.9909855723381042]"
            ]
          },
          "metadata": {},
          "execution_count": 26
        }
      ]
    },
    {
      "cell_type": "markdown",
      "source": [
        "# Excercise "
      ],
      "metadata": {
        "id": "_ZCDFbSchU1K"
      }
    },
    {
      "cell_type": "markdown",
      "source": [
        "Try switching to modelVIT1.  What is the accuracy?"
      ],
      "metadata": {
        "id": "gNqqWwqXheZo"
      }
    },
    {
      "cell_type": "code",
      "source": [
        "historymetricforsecondmodel , metricforsecondmodel = trainAModel(modelVIT1 , 2 )\n"
      ],
      "metadata": {
        "id": "nvSuXZMMhgWq"
      },
      "execution_count": null,
      "outputs": []
    },
    {
      "cell_type": "markdown",
      "source": [
        "# End of Lab"
      ],
      "metadata": {
        "id": "0y3FRhs0hNf9"
      }
    },
    {
      "cell_type": "code",
      "source": [
        " end of the lab"
      ],
      "metadata": {
        "id": "_zFZSgjEhSRq"
      },
      "execution_count": null,
      "outputs": []
    },
    {
      "cell_type": "code",
      "metadata": {
        "colab": {
          "base_uri": "https://localhost:8080/",
          "height": 488
        },
        "id": "tQy_nA0wS_4O",
        "outputId": "d0c55ed7-39f2-4e5c-8b9d-d783af7b3243"
      },
      "source": [
        " \n",
        "plt.plot(historyvit_model.history['accuracy'])\n",
        "plt.plot(historyCNN.history['accuracy'])\n",
        "plt.title('model Training accuracy')\n",
        "plt.ylabel('accuracy')\n",
        "plt.xlabel('epoch')\n",
        "plt.legend(['Vision Transformer', 'ResNet'])\n",
        "plt.show()"
      ],
      "execution_count": 27,
      "outputs": [
        {
          "output_type": "error",
          "ename": "NameError",
          "evalue": "ignored",
          "traceback": [
            "\u001b[0;31m---------------------------------------------------------------------------\u001b[0m",
            "\u001b[0;31mNameError\u001b[0m                                 Traceback (most recent call last)",
            "\u001b[0;32m<ipython-input-27-27a5ad338d83>\u001b[0m in \u001b[0;36m<module>\u001b[0;34m()\u001b[0m\n\u001b[1;32m      1\u001b[0m \u001b[0;34m\u001b[0m\u001b[0m\n\u001b[1;32m      2\u001b[0m \u001b[0mplt\u001b[0m\u001b[0;34m.\u001b[0m\u001b[0mplot\u001b[0m\u001b[0;34m(\u001b[0m\u001b[0mhistoryvit_model\u001b[0m\u001b[0;34m.\u001b[0m\u001b[0mhistory\u001b[0m\u001b[0;34m[\u001b[0m\u001b[0;34m'accuracy'\u001b[0m\u001b[0;34m]\u001b[0m\u001b[0;34m)\u001b[0m\u001b[0;34m\u001b[0m\u001b[0;34m\u001b[0m\u001b[0m\n\u001b[0;32m----> 3\u001b[0;31m \u001b[0mplt\u001b[0m\u001b[0;34m.\u001b[0m\u001b[0mplot\u001b[0m\u001b[0;34m(\u001b[0m\u001b[0mhistoryCNN\u001b[0m\u001b[0;34m.\u001b[0m\u001b[0mhistory\u001b[0m\u001b[0;34m[\u001b[0m\u001b[0;34m'accuracy'\u001b[0m\u001b[0;34m]\u001b[0m\u001b[0;34m)\u001b[0m\u001b[0;34m\u001b[0m\u001b[0;34m\u001b[0m\u001b[0m\n\u001b[0m\u001b[1;32m      4\u001b[0m \u001b[0mplt\u001b[0m\u001b[0;34m.\u001b[0m\u001b[0mtitle\u001b[0m\u001b[0;34m(\u001b[0m\u001b[0;34m'model Training accuracy'\u001b[0m\u001b[0;34m)\u001b[0m\u001b[0;34m\u001b[0m\u001b[0;34m\u001b[0m\u001b[0m\n\u001b[1;32m      5\u001b[0m \u001b[0mplt\u001b[0m\u001b[0;34m.\u001b[0m\u001b[0mylabel\u001b[0m\u001b[0;34m(\u001b[0m\u001b[0;34m'accuracy'\u001b[0m\u001b[0;34m)\u001b[0m\u001b[0;34m\u001b[0m\u001b[0;34m\u001b[0m\u001b[0m\n",
            "\u001b[0;31mNameError\u001b[0m: name 'historyCNN' is not defined"
          ]
        },
        {
          "output_type": "display_data",
          "data": {
            "image/png": "[encoded data removed]",
            "text/plain": [
              "<Figure size 432x288 with 1 Axes>"
            ]
          },
          "metadata": {
            "needs_background": "light"
          }
        }
      ]
    },
    {
      "cell_type": "code",
      "metadata": {
        "id": "v26gb17ZTVIQ"
      },
      "source": [
        "\n",
        "plt.plot(historyvit_model.history['val_accuracy'])\n",
        "plt.plot(historyCNN.history['val_accuracy'])\n",
        "plt.title('model Validation  accuracy')\n",
        "plt.ylabel('accuracy')\n",
        "plt.xlabel('epoch')\n",
        "plt.legend(['Vision Transformer', 'ResNet'])\n",
        "plt.show()"
      ],
      "execution_count": null,
      "outputs": []
    },
    {
      "cell_type": "code",
      "metadata": {
        "id": "flU1WBD1Thh0"
      },
      "source": [
        "plt.plot(historyvit_model.history['val_loss'])\n",
        "plt.plot(historyCNN.history['val_loss'])\n",
        "plt.title('model Validation  Loss')\n",
        "plt.ylabel('Validation Loss')\n",
        "plt.xlabel('epoch')\n",
        "plt.legend(['Vision Transformer', 'ResNet'])\n",
        "plt.show()"
      ],
      "execution_count": null,
      "outputs": []
    },
    {
      "cell_type": "code",
      "metadata": {
        "id": "IYoF8odsTy5P"
      },
      "source": [
        "plt.plot(historyvit_model.history['loss'])\n",
        "plt.plot(historyCNN.history['loss'])\n",
        "plt.title('model Training  Loss')\n",
        "plt.ylabel('Validation Loss')\n",
        "plt.xlabel('epoch')\n",
        "plt.legend(['Vision Transformer', 'ResNet'])\n",
        "plt.show()"
      ],
      "execution_count": null,
      "outputs": []
    },
    {
      "cell_type": "code",
      "metadata": {
        "id": "K2nIhyX6TtXG"
      },
      "source": [
        ""
      ],
      "execution_count": null,
      "outputs": []
    },
    {
      "cell_type": "code",
      "metadata": {
        "id": "18rJ49bLwYWg"
      },
      "source": [
        "history = historyvit_model\n",
        "\n",
        "plt.plot(history.history['accuracy'])\n",
        "plt.plot(history.history['val_accuracy'])\n",
        "plt.title('model accuracy')\n",
        "plt.ylabel('accuracy')\n",
        "plt.xlabel('epoch')\n",
        "plt.legend(['train', 'test'])\n",
        "plt.show()"
      ],
      "execution_count": null,
      "outputs": []
    },
    {
      "cell_type": "code",
      "metadata": {
        "id": "F1msAIfOS6pK"
      },
      "source": [
        "# summarize history for loss\n",
        "plt.plot(history.history['loss'])\n",
        "plt.plot(history.history['val_loss'])\n",
        "plt.title('model loss')\n",
        "plt.ylabel('loss')\n",
        "plt.xlabel('epoch')\n",
        "plt.legend(['train', 'test'] )\n",
        "plt.show()"
      ],
      "execution_count": null,
      "outputs": []
    },
    {
      "cell_type": "code",
      "metadata": {
        "id": "SOHrDGh3SODA"
      },
      "source": [
        "vit_model.summary()"
      ],
      "execution_count": null,
      "outputs": []
    },
    {
      "cell_type": "code",
      "metadata": {
        "id": "-9uN5hL5kz20"
      },
      "source": [
        "historymodelVIT1 , modelVIT1TRAINED = trainAModel(vit_model , 20 )"
      ],
      "execution_count": null,
      "outputs": []
    },
    {
      "cell_type": "code",
      "metadata": {
        "id": "UlfVsOjwSHra"
      },
      "source": [
        "modelVIT1TRAINED"
      ],
      "execution_count": null,
      "outputs": []
    },
    {
      "cell_type": "code",
      "metadata": {
        "id": "2Jg2IrU2R_vV"
      },
      "source": [
        "# summarize history for accuracy\n"
      ],
      "execution_count": null,
      "outputs": []
    },
    {
      "cell_type": "code",
      "metadata": {
        "id": "KRiNYJyDc-h4"
      },
      "source": [
        "from vit_keras import vit, utils, visualize\n",
        "\n",
        "# Get an image and compute the attention map\n",
        "url = 'https://upload.wikimedia.org/wikipedia/commons/b/bc/Free%21_%283987584939%29.jpg'\n",
        "image_size = 384\n",
        "\n",
        "image = utils.read(url, image_size)\n",
        "\n",
        "type(image)\n",
        "\n",
        "image.shape"
      ],
      "execution_count": null,
      "outputs": []
    },
    {
      "cell_type": "code",
      "metadata": {
        "id": "PEkxkZnfUQn2"
      },
      "source": [
        "sffsfsfs"
      ],
      "execution_count": null,
      "outputs": []
    },
    {
      "cell_type": "code",
      "metadata": {
        "id": "COL2l6Ci68MK"
      },
      "source": [
        "img_inputs = tf.keras.Input(shape=(SIZE, SIZE, 3))\n",
        "\n",
        "layer1 = vit_model (img_inputs)\n",
        "layer2 = tf.keras.layers.Flatten()  (layer1)\n",
        "layer3 = tf.keras.layers.BatchNormalization()   (layer2)\n",
        "layer4 = tf.keras.layers.Dense(64, activation = tfa.activations.gelu)  (layer3)\n",
        "layer5 = tf.keras.layers.BatchNormalization()   (layer4)\n",
        "\n"
      ],
      "execution_count": null,
      "outputs": []
    },
    {
      "cell_type": "code",
      "metadata": {
        "id": "BwKCJI1v7FGO"
      },
      "source": [
        "img_inputs = tf.keras.Input(shape=(SIZE, SIZE, 3))\n",
        "\n",
        "layer1 = vit_model (img_inputs)\n",
        "layer2 = tf.keras.layers.Flatten()  (layer1)\n",
        "layer3 = tf.keras.layers.BatchNormalization()   (layer2)\n",
        "layer4 = tf.keras.layers.Dense(64, activation = tfa.activations.gelu)  (layer3)\n",
        "layer5 = tf.keras.layers.BatchNormalization()   (layer4)\n",
        "layer6 = tf.keras.layers.Dropout(0.1)   (layer5)\n",
        "\n",
        "\n",
        "\n",
        "finallayer4 = tf.keras.layers.Dense(16, activation = tfa.activations.gelu)  (layer6)\n",
        "finallayer5 = tf.keras.layers.BatchNormalization()   (finallayer4)\n",
        "\n",
        "finallayer6 = tf.keras.layers.Dense(11, activation = tfa.activations.gelu)  (finallayer5)\n",
        "finallayer7 = tf.keras.layers.BatchNormalization()   (finallayer6)\n",
        "\n",
        "finallayer8 = tf.keras.layers.Dense(2, 'softmax')  (finallayer7)\n",
        "\n",
        "\n",
        "modelVIT1 = tf.keras.Model(inputs=img_inputs, outputs=finallayer8, name=\"hi\")\n",
        "\n"
      ],
      "execution_count": null,
      "outputs": []
    },
    {
      "cell_type": "code",
      "metadata": {
        "id": "pXcZc8ybKlsr"
      },
      "source": [
        ""
      ],
      "execution_count": null,
      "outputs": []
    },
    {
      "cell_type": "code",
      "metadata": {
        "id": "g2bor7aYLKfv"
      },
      "source": [
        "resnetmodel = tf.keras.applications.InceptionResNetV2 (include_top=False)\n",
        "resnetmodel.trainable = False"
      ],
      "execution_count": null,
      "outputs": []
    },
    {
      "cell_type": "code",
      "metadata": {
        "id": "UswPdeKXLKjH"
      },
      "source": [
        ""
      ],
      "execution_count": null,
      "outputs": []
    },
    {
      "cell_type": "code",
      "metadata": {
        "id": "_Le3QexJOnSw"
      },
      "source": [
        ""
      ],
      "execution_count": null,
      "outputs": []
    },
    {
      "cell_type": "code",
      "metadata": {
        "id": "kZ5kcEU-OnV4"
      },
      "source": [
        "resnetmodel = tf.keras.applications.InceptionV3 (include_top=False )\n",
        "resnetmodel.trainable = True"
      ],
      "execution_count": null,
      "outputs": []
    },
    {
      "cell_type": "code",
      "metadata": {
        "id": "8sSE_l2pNMHB"
      },
      "source": [
        "for i, layer in enumerate ( resnetmodel.layers):\n",
        "  if i > 700:\n",
        "    layer.trainable = True "
      ],
      "execution_count": null,
      "outputs": []
    },
    {
      "cell_type": "code",
      "metadata": {
        "id": "_-1vwNq1Mbld"
      },
      "source": [
        "for i, layer in enumerate ( resnetmodel.layers):\n",
        "  print(i,  layer.trainable  , '  ',  layer.name, '  ')"
      ],
      "execution_count": null,
      "outputs": []
    },
    {
      "cell_type": "code",
      "metadata": {
        "id": "9UaA4ycpLDOc"
      },
      "source": [
        "img_inputs = tf.keras.Input(shape=(SIZE, SIZE, 3))\n",
        "\n",
        "layer1 = resnetmodel  (img_inputs, training=False)\n",
        "layer2 = tf.keras.layers.Flatten()  (layer1)\n",
        "layer3 = tf.keras.layers.BatchNormalization()   (layer2)\n",
        "layer4 = tf.keras.layers.Dense(64, activation = tfa.activations.gelu)  (layer3)\n",
        "layer5 = tf.keras.layers.BatchNormalization()   (layer4)\n",
        "layer6 = tf.keras.layers.Dropout(0.1)  (layer5)\n",
        "\n",
        "finallayer4 = tf.keras.layers.Dense(16, activation = tfa.activations.gelu)  (layer6)\n",
        "finallayer5 = tf.keras.layers.BatchNormalization()   (finallayer4)\n",
        "\n",
        "finallayer6 = tf.keras.layers.Dense(11, activation = tfa.activations.gelu)  (finallayer5)\n",
        "finallayer7 = tf.keras.layers.BatchNormalization()   (finallayer6)\n",
        "\n",
        "finallayer8 = tf.keras.layers.Dense(2, 'softmax')  (finallayer7)\n",
        "\n",
        "\n",
        "modelCNN1 = tf.keras.Model(inputs=img_inputs, outputs=finallayer8, name=\"hii\")"
      ],
      "execution_count": null,
      "outputs": []
    },
    {
      "cell_type": "code",
      "metadata": {
        "id": "I5FBVP9rD_Xe"
      },
      "source": [
        "historyCNN, trainedCNNmodel = trainAModel(modelCNN1, 20)"
      ],
      "execution_count": null,
      "outputs": []
    },
    {
      "cell_type": "code",
      "metadata": {
        "id": "ZkE_7ud2NWXc"
      },
      "source": [
        "historyCNN, trainedCNNmodel = trainAModel(modelCNN1, 20)"
      ],
      "execution_count": null,
      "outputs": []
    },
    {
      "cell_type": "code",
      "metadata": {
        "id": "d1LIh6MQMxAS"
      },
      "source": [
        "for i, layer in enumerate ( modelCNN1.layers):\n",
        "  print(i,  layer.trainable  , '  ',  layer.name, '  ')"
      ],
      "execution_count": null,
      "outputs": []
    },
    {
      "cell_type": "code",
      "metadata": {
        "id": "0ui8hKGXCnA4"
      },
      "source": [
        "modelCNN1.summary()"
      ],
      "execution_count": null,
      "outputs": []
    },
    {
      "cell_type": "code",
      "metadata": {
        "id": "fXZHPDAzAnnl"
      },
      "source": [
        "# summarize history for accuracy\n",
        "history = historyCNN\n",
        "\n",
        "plt.plot(history.history['accuracy'])\n",
        "plt.plot(history.history['val_accuracy'])\n",
        "plt.title('model accuracy')\n",
        "plt.ylabel('accuracy')\n",
        "plt.xlabel('epoch')\n",
        "plt.legend(['train', 'test'])\n",
        "plt.show()"
      ],
      "execution_count": null,
      "outputs": []
    },
    {
      "cell_type": "code",
      "metadata": {
        "id": "was1YfO7AqXK"
      },
      "source": [
        "history.history['val_accuracy']"
      ],
      "execution_count": null,
      "outputs": []
    },
    {
      "cell_type": "code",
      "metadata": {
        "id": "gYjCCsrWoBnZ"
      },
      "source": [
        "trainedCNNmodel.save('trainedCNNmodel.h5')"
      ],
      "execution_count": null,
      "outputs": []
    },
    {
      "cell_type": "code",
      "metadata": {
        "id": "i_vo2WxYPU1L"
      },
      "source": [
        "# summarize history for accuracy\n",
        "history = historyCNN\n",
        "\n",
        "plt.plot(history.history['accuracy'])\n",
        "plt.plot(history.history['val_accuracy'])\n",
        "plt.title('model accuracy')\n",
        "plt.ylabel('accuracy')\n",
        "plt.xlabel('epoch')\n",
        "plt.legend(['train', 'test'])\n",
        "plt.show()"
      ],
      "execution_count": null,
      "outputs": []
    },
    {
      "cell_type": "code",
      "metadata": {
        "id": "3SwFakwls7Az"
      },
      "source": [
        "history.history['accuracy']"
      ],
      "execution_count": null,
      "outputs": []
    },
    {
      "cell_type": "code",
      "metadata": {
        "id": "PCi1fOa_s8d6"
      },
      "source": [
        "history.history['val_accuracy']"
      ],
      "execution_count": null,
      "outputs": []
    },
    {
      "cell_type": "code",
      "metadata": {
        "id": "J6Xpy5DronZM"
      },
      "source": [
        "# summarize history for loss\n",
        "plt.plot(history.history['loss'])\n",
        "plt.plot(history.history['val_loss'])\n",
        "plt.title('model loss')\n",
        "plt.ylabel('loss')\n",
        "plt.xlabel('epoch')\n",
        "plt.legend(['train', 'test'] )\n",
        "plt.show()"
      ],
      "execution_count": null,
      "outputs": []
    },
    {
      "cell_type": "code",
      "metadata": {
        "id": "rZgHeHP7UocO"
      },
      "source": [
        "val_generatorCONF = datagen.flow_from_directory(\n",
        "    TRAINING_DIR, \n",
        "    subset='validation',\n",
        "    target_size=(SIZE,SIZE),\n",
        "         shuffle=False,     batch_size=64,\n",
        "\t  class_mode='categorical'\n",
        ")"
      ],
      "execution_count": null,
      "outputs": []
    },
    {
      "cell_type": "code",
      "metadata": {
        "id": "H_fMtl_PAXsL"
      },
      "source": [
        "feature = test1.predict(val_generatorCONF)"
      ],
      "execution_count": null,
      "outputs": []
    },
    {
      "cell_type": "code",
      "metadata": {
        "id": "8uibHwDSA6jx"
      },
      "source": [
        "feature.shape"
      ],
      "execution_count": null,
      "outputs": []
    },
    {
      "cell_type": "code",
      "metadata": {
        "id": "VUb1ytWao4aT"
      },
      "source": [
        "\n",
        "valid_gen = val_generatorCONF\n",
        "predicted_classes = np.argmax(trainedCNNmodel.predict(valid_gen, steps = valid_gen.n // valid_gen.batch_size + 1), axis = 1)\n",
        "true_classes = valid_gen.classes\n",
        "class_labels = list(valid_gen.class_indices.keys())  \n",
        "\n",
        "confusionmatrix = confusion_matrix(true_classes, predicted_classes)\n",
        "plt.figure(figsize = (4, 4))\n",
        "sns.heatmap(confusionmatrix, cmap = 'Blues', annot = True, cbar = True)\n",
        "\n",
        "print(classification_report(true_classes, predicted_classes))"
      ],
      "execution_count": null,
      "outputs": []
    },
    {
      "cell_type": "code",
      "metadata": {
        "id": "2M3PjcuXVg1c"
      },
      "source": [
        "confusionmatrix = confusion_matrix(true_classes, predicted_classes)\n",
        "plt.figure(figsize = (4, 4))\n",
        "sns.heatmap(confusionmatrix, cmap = 'Blues', annot = True, cbar = True,  fmt='g')\n",
        "\n",
        "print(classification_report(true_classes, predicted_classes))"
      ],
      "execution_count": null,
      "outputs": []
    },
    {
      "cell_type": "code",
      "metadata": {
        "id": "ewhfXgliVYzq"
      },
      "source": [
        "confusionmatrix"
      ],
      "execution_count": null,
      "outputs": []
    },
    {
      "cell_type": "code",
      "metadata": {
        "id": "hxyh5l8jV-EV"
      },
      "source": [
        "\n",
        "valid_gen = val_generatorCONF\n",
        "predicted_classes = np.argmax( vit_modelTRAINED.predict(valid_gen, steps = valid_gen.n // valid_gen.batch_size + 1), axis = 1)\n",
        "true_classes = valid_gen.classes\n",
        "class_labels = list(valid_gen.class_indices.keys())  \n",
        "\n",
        "confusionmatrix = confusion_matrix(true_classes, predicted_classes)\n",
        "plt.figure(figsize = (4, 4))\n",
        "sns.heatmap(confusionmatrix, cmap = 'Blues', annot = True, cbar = True)\n",
        "\n",
        "print(classification_report(true_classes, predicted_classes))"
      ],
      "execution_count": null,
      "outputs": []
    },
    {
      "cell_type": "code",
      "metadata": {
        "id": "G0xrjtfcWdCq"
      },
      "source": [
        "confusionmatrix = confusion_matrix(true_classes, predicted_classes)\n",
        "plt.figure(figsize = (4, 4))\n",
        "sns.heatmap(confusionmatrix, cmap = 'Blues', annot = True, cbar = True,  fmt='g')\n",
        "\n",
        "print(classification_report(true_classes, predicted_classes))"
      ],
      "execution_count": null,
      "outputs": []
    },
    {
      "cell_type": "code",
      "metadata": {
        "id": "R6HJGXjiXbut"
      },
      "source": [
        "confusionmatrix = confusion_matrix(true_classes, predicted_classes)\n",
        "plt.figure(figsize = (3, 3))\n",
        "sns.set(font_scale=1.4)\n",
        "sns.heatmap(confusionmatrix, cmap = 'Blues', annot = True, cbar = True,  fmt='g')\n",
        "\n",
        "print(classification_report(true_classes, predicted_classes))"
      ],
      "execution_count": null,
      "outputs": []
    },
    {
      "cell_type": "code",
      "metadata": {
        "id": "Ti8hWLQdWtne"
      },
      "source": [
        "confusionmatrix"
      ],
      "execution_count": null,
      "outputs": []
    },
    {
      "cell_type": "code",
      "metadata": {
        "id": "yXiS3tLYWo7M"
      },
      "source": [
        ""
      ],
      "execution_count": null,
      "outputs": []
    },
    {
      "cell_type": "code",
      "metadata": {
        "id": "NdEtTYAUWabC"
      },
      "source": [
        "confusionmatrix"
      ],
      "execution_count": null,
      "outputs": []
    },
    {
      "cell_type": "code",
      "metadata": {
        "id": "nzFR79RUYl_U"
      },
      "source": [
        "%load_ext tensorboard"
      ],
      "execution_count": null,
      "outputs": []
    },
    {
      "cell_type": "code",
      "metadata": {
        "id": "_qywFNMkYqJX"
      },
      "source": [
        "%tensorboard --logdir  './Graph'"
      ],
      "execution_count": null,
      "outputs": []
    },
    {
      "cell_type": "code",
      "metadata": {
        "id": "W9SbNxXOcvpF"
      },
      "source": [
        "from google.colab import drive\n",
        "drive.mount('/content/drive')"
      ],
      "execution_count": null,
      "outputs": []
    },
    {
      "cell_type": "code",
      "metadata": {
        "id": "kM48nBKu2PdH"
      },
      "source": [
        "vit_modelTRAINED.summary()"
      ],
      "execution_count": null,
      "outputs": []
    },
    {
      "cell_type": "code",
      "metadata": {
        "id": "GuNMjLKm-h-E"
      },
      "source": [
        "for i in vit_modelTRAINED.layers:\n",
        "  print (i) "
      ],
      "execution_count": null,
      "outputs": []
    },
    {
      "cell_type": "code",
      "metadata": {
        "id": "SCHM2NCb-yhP"
      },
      "source": [
        "vit_modelTRAINED.layers[19]"
      ],
      "execution_count": null,
      "outputs": []
    },
    {
      "cell_type": "code",
      "metadata": {
        "id": "jpgemkgu4Bno"
      },
      "source": [
        "layer_outputs = [layer.output for layer in vit_modelTRAINED.layers]\n",
        " \n",
        "\n",
        "test1  = tf.keras.Model ( inputs= vit_modelTRAINED.input, outputs=layer_outputs[16])\n",
        "test1.summary()"
      ],
      "execution_count": null,
      "outputs": []
    },
    {
      "cell_type": "code",
      "metadata": {
        "id": "MorZADReBL2C"
      },
      "source": [
        "feature = test1.predict(val_generatorCONF)"
      ],
      "execution_count": null,
      "outputs": []
    },
    {
      "cell_type": "code",
      "metadata": {
        "id": "yNFDm-97BOJo"
      },
      "source": [
        "feature[0].shape"
      ],
      "execution_count": null,
      "outputs": []
    },
    {
      "cell_type": "code",
      "metadata": {
        "id": "PZR8HH2FdX3Q"
      },
      "source": [
        "!ls /content/drive/MyDrive "
      ],
      "execution_count": null,
      "outputs": []
    },
    {
      "cell_type": "code",
      "metadata": {
        "id": "M-oH65VIdkMW"
      },
      "source": [
        "model_save_name = 'ViTmodel1.pt'\n",
        "path = F\"/content/drive/MyDrive/RajaViTModel\" \n",
        "torch.save(model.state_dict(), path)"
      ],
      "execution_count": null,
      "outputs": []
    },
    {
      "cell_type": "code",
      "metadata": {
        "id": "N5VS0cXYWUnh"
      },
      "source": [
        "vit_modelTRAINED.save(\"/content/drive/MyDrive/vit_modelTRAINED.h5\")"
      ],
      "execution_count": null,
      "outputs": []
    },
    {
      "cell_type": "code",
      "metadata": {
        "id": "1e_U1C8_UEkk"
      },
      "source": [
        "\n",
        "valid_gen = val_generator\n",
        "predicted_classes = np.argmax(trainedCNNmodel.predict(valid_gen, steps = valid_gen.n // valid_gen.batch_size + 1), axis = 1)\n",
        "true_classes = valid_gen.classes\n",
        "class_labels = list(valid_gen.class_indices.keys())  \n",
        "\n",
        "confusionmatrix = confusion_matrix(true_classes, predicted_classes)\n",
        "plt.figure(figsize = (16, 16))\n",
        "sns.heatmap(confusionmatrix, cmap = 'Blues', annot = True, cbar = True)\n",
        "\n",
        "print(classification_report(true_classes, predicted_classes))"
      ],
      "execution_count": null,
      "outputs": []
    },
    {
      "cell_type": "code",
      "metadata": {
        "id": "gZ7YkUsitQgo"
      },
      "source": [
        "trainedCNNmodel.predict(valid_gen)"
      ],
      "execution_count": null,
      "outputs": []
    },
    {
      "cell_type": "code",
      "metadata": {
        "id": "VaCOgoMzvHJR"
      },
      "source": [
        "predictions = trainedCNNmodel.predict(valid_gen)"
      ],
      "execution_count": null,
      "outputs": []
    },
    {
      "cell_type": "code",
      "metadata": {
        "id": "rPjQOdFavkri"
      },
      "source": [
        "predictions"
      ],
      "execution_count": null,
      "outputs": []
    },
    {
      "cell_type": "code",
      "metadata": {
        "id": "IINf5Sw0ttyh"
      },
      "source": [
        "test1 = np.argmax(predictions, axis = 1 )"
      ],
      "execution_count": null,
      "outputs": []
    },
    {
      "cell_type": "code",
      "metadata": {
        "id": "hauLoz-uuDsP"
      },
      "source": [
        "test1"
      ],
      "execution_count": null,
      "outputs": []
    },
    {
      "cell_type": "code",
      "metadata": {
        "id": "RmtD0YAXrMsh"
      },
      "source": [
        "valid_gen.classes"
      ],
      "execution_count": null,
      "outputs": []
    },
    {
      "cell_type": "code",
      "metadata": {
        "id": "kyLNswWuv44M"
      },
      "source": [
        "true_classes = valid_gen.classes"
      ],
      "execution_count": null,
      "outputs": []
    },
    {
      "cell_type": "code",
      "metadata": {
        "id": "nP_JH_6bv64t"
      },
      "source": [
        "true_classes"
      ],
      "execution_count": null,
      "outputs": []
    },
    {
      "cell_type": "code",
      "metadata": {
        "id": "abV02L6or4XX"
      },
      "source": [
        "class_labels"
      ],
      "execution_count": null,
      "outputs": []
    },
    {
      "cell_type": "code",
      "metadata": {
        "id": "2AtbzaWorAoV"
      },
      "source": [
        "confusionmatrix"
      ],
      "execution_count": null,
      "outputs": []
    },
    {
      "cell_type": "code",
      "metadata": {
        "id": "FMEJyq5kwCdE"
      },
      "source": [
        "confusionmatrix = confusion_matrix(true_classes, test1)"
      ],
      "execution_count": null,
      "outputs": []
    },
    {
      "cell_type": "code",
      "metadata": {
        "id": "Qm0lUV9awIjs"
      },
      "source": [
        "confusionmatrix"
      ],
      "execution_count": null,
      "outputs": []
    },
    {
      "cell_type": "code",
      "metadata": {
        "id": "Wkbj0PMoK8pb"
      },
      "source": [
        "waitheree"
      ],
      "execution_count": null,
      "outputs": []
    },
    {
      "cell_type": "code",
      "metadata": {
        "id": "l47gFZMwIzjT"
      },
      "source": [
        "vit_model2 = vit.vit_b16(\n",
        "        image_size = IMAGE_SIZE,\n",
        "        \n",
        "        activation = 'softmax',\n",
        "        pretrained = True,\n",
        "        include_top = False,\n",
        "        pretrained_top = False,\n",
        "        classes = 2)"
      ],
      "execution_count": null,
      "outputs": []
    },
    {
      "cell_type": "code",
      "metadata": {
        "id": "ek3LgEs4GyVU"
      },
      "source": [
        "path2layer00 = tf.keras.layers.Conv2D(filters=6, kernel_size=3, strides=1, padding='same', activation='relu')    (img_inputs)      \n",
        "path2layer01 = tf.keras.layers.Conv2D(filters=6, kernel_size=3, strides=1, padding='same', activation='relu')    (path2layer00)      \n",
        "path2layer02 = tf.keras.layers.Conv2D(filters=3, kernel_size=3, strides=1, padding='same', activation='relu')    (path2layer01)      \n",
        "\n",
        "vit_model.trainable = False   \n",
        "path2layer1 = vit_model (path2layer02)\n",
        "path2layer2 = tf.keras.layers.Flatten()  (path2layer1)\n",
        "path2layer3 = tf.keras.layers.BatchNormalization()   (path2layer2)\n",
        "path2layer4 = tf.keras.layers.Dense(64, activation = tfa.activations.gelu)  (path2layer3)\n",
        "path2layer5 = tf.keras.layers.BatchNormalization()   (path2layer4)\n",
        "\n",
        "\n",
        "#model = tf.keras.Model(inputs=img_inputs, outputs=path2layer6, name=\"standardmodel2\")\n",
        "\n"
      ],
      "execution_count": null,
      "outputs": []
    },
    {
      "cell_type": "code",
      "metadata": {
        "id": "5ndBpKACHiPv"
      },
      "source": [
        "concantedlayer = tf.keras.layers.Concatenate() ([layer5, path2layer5]) "
      ],
      "execution_count": null,
      "outputs": []
    },
    {
      "cell_type": "code",
      "metadata": {
        "id": "P9PM66FSIJHj"
      },
      "source": [
        "finallayer4 = tf.keras.layers.Dense(64, activation = tfa.activations.gelu)  (concantedlayer)\n",
        "finallayer5 = tf.keras.layers.BatchNormalization()   (finallayer4)\n",
        "\n",
        "finallayer6 = tf.keras.layers.Dense(11, activation = tfa.activations.gelu)  (finallayer5)\n",
        "finallayer7 = tf.keras.layers.BatchNormalization()   (finallayer6)\n",
        "\n",
        "finallayer8 = tf.keras.layers.Dense(2, 'softmax')  (finallayer7)\n"
      ],
      "execution_count": null,
      "outputs": []
    },
    {
      "cell_type": "code",
      "metadata": {
        "id": "1ivG_k-bHRJR"
      },
      "source": [
        "model1 = tf.keras.Model(inputs=img_inputs, outputs=finallayer8, name=\"thankyou\")\n"
      ],
      "execution_count": null,
      "outputs": []
    },
    {
      "cell_type": "code",
      "metadata": {
        "id": "-Fx6TzAz7FJb"
      },
      "source": [
        "model1.summary()"
      ],
      "execution_count": null,
      "outputs": []
    },
    {
      "cell_type": "code",
      "metadata": {
        "id": "KwDHIcHj7FL_"
      },
      "source": [
        "dot_img_file = '/tmp/model_1.png'\n",
        "tf.keras.utils.plot_model(model1, to_file=dot_img_file, show_shapes=True)"
      ],
      "execution_count": null,
      "outputs": []
    },
    {
      "cell_type": "code",
      "metadata": {
        "id": "lKmyi-597FO0"
      },
      "source": [
        " historytest , testmodel = trainAModel(model1 , 1 )"
      ],
      "execution_count": null,
      "outputs": []
    },
    {
      "cell_type": "code",
      "metadata": {
        "id": "BjCR_A-8TyXd"
      },
      "source": [
        "model.summary()"
      ],
      "execution_count": null,
      "outputs": []
    },
    {
      "cell_type": "code",
      "metadata": {
        "id": "oDMXCX3w-aMM"
      },
      "source": [
        ""
      ],
      "execution_count": null,
      "outputs": []
    },
    {
      "cell_type": "code",
      "metadata": {
        "id": "9sm9mbqR7FRt"
      },
      "source": [
        ""
      ],
      "execution_count": null,
      "outputs": []
    },
    {
      "cell_type": "code",
      "metadata": {
        "id": "LWuwDC4L_v7O"
      },
      "source": [
        "modelVit1 = tf.keras.Sequential([\n",
        "        vit_model,\n",
        "        tf.keras.layers.Flatten(),\n",
        "        tf.keras.layers.BatchNormalization(),\n",
        "        tf.keras.layers.Dense(11, activation = tfa.activations.gelu),\n",
        "        tf.keras.layers.BatchNormalization(),\n",
        "        tf.keras.layers.Dense(2, 'softmax')\n",
        "    ],\n",
        "    name = 'vision_transformer')\n",
        "\n",
        "modelVit1.summary()"
      ],
      "execution_count": null,
      "outputs": []
    },
    {
      "cell_type": "code",
      "metadata": {
        "id": "ouEuWdSpjWM_"
      },
      "source": [
        ""
      ],
      "execution_count": null,
      "outputs": []
    },
    {
      "cell_type": "code",
      "metadata": {
        "id": "RoKfA8qBBEQv"
      },
      "source": [
        " history , modelVit1Trained = trainAModel(modelVit1 , 1 )"
      ],
      "execution_count": null,
      "outputs": []
    },
    {
      "cell_type": "code",
      "metadata": {
        "id": "nlYKSMTOpbYR"
      },
      "source": [
        " \n",
        " modelVit1history = history "
      ],
      "execution_count": null,
      "outputs": []
    },
    {
      "cell_type": "code",
      "metadata": {
        "id": "Zr1ILiuZonRd"
      },
      "source": [
        "modelVit1Trained.save('modelVit1Trained.h5' )"
      ],
      "execution_count": null,
      "outputs": []
    },
    {
      "cell_type": "code",
      "metadata": {
        "id": "Z5pYdi7ULn2A"
      },
      "source": [
        "dot_img_file = '/tmp/model_1.png'\n",
        "tf.keras.utils.plot_model(modelVit1Trained, to_file=dot_img_file, show_shapes=True)"
      ],
      "execution_count": null,
      "outputs": []
    },
    {
      "cell_type": "code",
      "metadata": {
        "id": "PfWKPC2gLYA9"
      },
      "source": [
        "temp1 = vit.vit_b32 (\n",
        "        image_size = IMAGE_SIZE,\n",
        "        activation = 'softmax',\n",
        "        pretrained = True,\n",
        "        include_top = False,\n",
        "        pretrained_top = False,\n",
        "        classes = 2)"
      ],
      "execution_count": null,
      "outputs": []
    },
    {
      "cell_type": "code",
      "metadata": {
        "id": "Q1FmyJ8kMDTz"
      },
      "source": [
        "dot_img_file = '/tmp/model_1.png'\n",
        "tf.keras.utils.plot_model(temp1, to_file=dot_img_file, show_shapes=True)"
      ],
      "execution_count": null,
      "outputs": []
    },
    {
      "cell_type": "code",
      "metadata": {
        "id": "x5K5S_lSFjPP"
      },
      "source": [
        "vit_model.summary()"
      ],
      "execution_count": null,
      "outputs": []
    },
    {
      "cell_type": "code",
      "metadata": {
        "id": "XkNm2xEBJVWm"
      },
      "source": [
        "modelVit2  = tf.keras.Sequential([\n",
        "        tf.keras.layers.Conv2D(filters=3, kernel_size=3, strides=1, padding='same', activation='relu') ,                    \n",
        "        vit_model,\n",
        "        tf.keras.layers.Flatten(),\n",
        "        tf.keras.layers.BatchNormalization(),\n",
        "        tf.keras.layers.Dense(11, activation = tfa.activations.gelu),\n",
        "        tf.keras.layers.BatchNormalization(),\n",
        "        tf.keras.layers.Dense(2, 'softmax')\n",
        "    ],\n",
        "    name = 'vision_transformer')\n"
      ],
      "execution_count": null,
      "outputs": []
    },
    {
      "cell_type": "code",
      "metadata": {
        "id": "qy0aClINpP4V"
      },
      "source": [
        "modelVit2history , modelVit2Trained = trainAModel(modelVit2 , 1 )"
      ],
      "execution_count": null,
      "outputs": []
    },
    {
      "cell_type": "code",
      "metadata": {
        "id": "IMKIu32aprP6"
      },
      "source": [
        "modelVit3  = tf.keras.Sequential([\n",
        "        tf.keras.layers.Conv2D(filters=8, kernel_size=3, strides=1, padding='same', activation='relu') ,                    \n",
        "        tf.keras.layers.Conv2D(filters=8, kernel_size=3, strides=1, padding='same', activation='relu') ,                    \n",
        "        tf.keras.layers.Conv2D(filters=3, kernel_size=3, strides=1, padding='same', activation='relu') ,                    \n",
        "        vit_model,\n",
        "        tf.keras.layers.Flatten(),\n",
        "        tf.keras.layers.BatchNormalization(),\n",
        "        tf.keras.layers.Dense(11, activation = tfa.activations.gelu),\n",
        "        tf.keras.layers.BatchNormalization(),\n",
        "        tf.keras.layers.Dense(2, 'softmax')\n",
        "    ],\n",
        "    name = 'vision_transformer')"
      ],
      "execution_count": null,
      "outputs": []
    },
    {
      "cell_type": "code",
      "metadata": {
        "id": "bS7RocY-wTuL"
      },
      "source": [
        "modelVit3history , modelVit3Trained = trainAModel(modelVit3 , 1 )"
      ],
      "execution_count": null,
      "outputs": []
    },
    {
      "cell_type": "code",
      "metadata": {
        "id": "4saY-1RW573r"
      },
      "source": [
        "modelVit3Trained.save('modelVit3Trained.h5')"
      ],
      "execution_count": null,
      "outputs": []
    },
    {
      "cell_type": "code",
      "metadata": {
        "id": "t5s_oLBD6LTX"
      },
      "source": [
        "modelVit3Trained"
      ],
      "execution_count": null,
      "outputs": []
    },
    {
      "cell_type": "code",
      "metadata": {
        "id": "PwLWJqpQ6oTY"
      },
      "source": [
        "layer_outputs = [layer.output for layer in modelVit3Trained.layers]\n",
        "activation_model1 = models.Model(modelVit3Trained.input, outputs=layer_outputs[5])\n",
        "activation_model1.summary()"
      ],
      "execution_count": null,
      "outputs": []
    },
    {
      "cell_type": "code",
      "metadata": {
        "id": "jXryebhj7PwP"
      },
      "source": [
        "layer_outputs = [layer.output for layer in modelVit1Trained.layers]\n",
        "activation_model2 = models.Model(modelVit1Trained.input, outputs=layer_outputs[2])\n",
        "activation_model2.summary()"
      ],
      "execution_count": null,
      "outputs": []
    },
    {
      "cell_type": "code",
      "metadata": {
        "id": "AvkvH6fg7_aP"
      },
      "source": [
        "commoninput = modelVit1Trained.input\n",
        "\n",
        "layer_outputs1 = [layer.output for layer in modelVit1Trained.layers]\n",
        "outputs1=layer_outputs1[2]\n",
        "\n",
        "layer_outputs2 = [layer.output for layer in modelVit3Trained.layers]\n",
        "outputs2=layer_outputs2[5]\n",
        "\n",
        "\n",
        "concateoutputs1and2 = tf.keras.layers.Concatenate()([outputs1, outputs2]) \n",
        "\n",
        "\n",
        "last1 =       tf.keras.layers.Dense(2, 'softmax') (concateoutputs1and2)\n",
        " \n",
        "\n",
        "newmodel = tf.keras.Model(inputs=[modelVit1Trained.input, modelVit3Trained.input], outputs=last1)"
      ],
      "execution_count": null,
      "outputs": []
    },
    {
      "cell_type": "code",
      "metadata": {
        "id": "_PE7maYY-lKt"
      },
      "source": [
        "newmodel.summary()"
      ],
      "execution_count": null,
      "outputs": []
    },
    {
      "cell_type": "code",
      "metadata": {
        "id": "yLklziYh-u33"
      },
      "source": [
        "dot_img_file = '/tmp/model_1.png'\n",
        "tf.keras.utils.plot_model(newmodel, to_file=dot_img_file, show_shapes=True)"
      ],
      "execution_count": null,
      "outputs": []
    },
    {
      "cell_type": "code",
      "metadata": {
        "id": "KJJswwX3_CFp"
      },
      "source": [
        "newmodel()"
      ],
      "execution_count": null,
      "outputs": []
    },
    {
      "cell_type": "code",
      "metadata": {
        "id": "zP1nxSkh_xCM"
      },
      "source": [
        "commoninput = tf.keras.Input(shape=(None, 224, 224, 3))\n",
        "finalnewmodel = newmodel()   ( commoninput )"
      ],
      "execution_count": null,
      "outputs": []
    },
    {
      "cell_type": "code",
      "metadata": {
        "id": "QL7w4MNL_MHY"
      },
      "source": [
        "classifer  = tf.keras.Sequential([\n",
        "        newmodel,\n",
        "        tf.keras.layers.Dense(2, 'softmax')\n",
        "    ],\n",
        "    name = 'dsfsfs')"
      ],
      "execution_count": null,
      "outputs": []
    },
    {
      "cell_type": "code",
      "metadata": {
        "id": "raPUBMAY7gk8"
      },
      "source": [
        "visible = Input(shape=(2,))\n",
        "hidden = Dense(2)(visible)\n",
        "model = Model(inputs=visible, outputs=hidden)"
      ],
      "execution_count": null,
      "outputs": []
    },
    {
      "cell_type": "code",
      "metadata": {
        "id": "eyFW3swKukgq"
      },
      "source": [
        "temp1 = vit.vit_b32 (\n",
        "        image_size = IMAGE_SIZE,\n",
        "        activation = 'softmax',\n",
        "        pretrained = True,\n",
        "        include_top = False,\n",
        "        pretrained_top = False,\n",
        "        classes = 2)"
      ],
      "execution_count": null,
      "outputs": []
    },
    {
      "cell_type": "code",
      "metadata": {
        "id": "tmP50mzOumkf"
      },
      "source": [
        "from keras import models\n",
        "\n",
        "layer_outputs = [layer.output for layer in temp1.layers]\n",
        "# Creates a model that will return these outputs, given the model input:\n",
        "#smallvit_model = models.Model(inputs=temp1.input, outputs=layer_outputs)\n",
        "#smallvit_model = models.Model(temp1.input, outputs=layer_outputs[1])\n",
        "\n",
        "smallvit_model = models.Model(inputs = layer_outputs[1], outputs=layer_outputs)\n",
        "\n"
      ],
      "execution_count": null,
      "outputs": []
    },
    {
      "cell_type": "code",
      "metadata": {
        "id": "NRNDhhKjvXUJ"
      },
      "source": [
        "smallvit_model.summary()"
      ],
      "execution_count": null,
      "outputs": []
    },
    {
      "cell_type": "code",
      "metadata": {
        "id": "E2H2KgaoqLP5"
      },
      "source": [
        "modelVit3history , modelVit3Trained = trainAModel(modelVit3 , 1 )"
      ],
      "execution_count": null,
      "outputs": []
    },
    {
      "cell_type": "code",
      "metadata": {
        "id": "sdn6zRoupEgB"
      },
      "source": [
        "modelVit1Trained"
      ],
      "execution_count": null,
      "outputs": []
    },
    {
      "cell_type": "code",
      "metadata": {
        "id": "jrWPYG3d_cOX"
      },
      "source": [
        ""
      ],
      "execution_count": null,
      "outputs": []
    },
    {
      "cell_type": "code",
      "metadata": {
        "id": "QE6o2kpuVl9x"
      },
      "source": [
        "valid_gen = val_generator\n",
        "predicted_classes = np.argmax(model.predict(valid_gen, steps = valid_gen.n // valid_gen.batch_size + 1), axis = 1)\n",
        "true_classes = valid_gen.classes\n",
        "class_labels = list(valid_gen.class_indices.keys())  \n"
      ],
      "execution_count": null,
      "outputs": []
    },
    {
      "cell_type": "code",
      "metadata": {
        "id": "wFm7j79OV2yQ"
      },
      "source": [
        "predicted_classes"
      ],
      "execution_count": null,
      "outputs": []
    },
    {
      "cell_type": "code",
      "metadata": {
        "id": "GwMJUg5bV6TI"
      },
      "source": [
        "model.predict(valid_gen, batch_size=1, steps=1)"
      ],
      "execution_count": null,
      "outputs": []
    },
    {
      "cell_type": "code",
      "metadata": {
        "id": "_GuE9z0BZrwZ"
      },
      "source": [
        "model.summary()"
      ],
      "execution_count": null,
      "outputs": []
    },
    {
      "cell_type": "code",
      "metadata": {
        "id": "p7dA2PGEZ0Zh"
      },
      "source": [
        "layer_outputs = [layer.output for layer in model.layers]\n",
        "layer_outputs[0]"
      ],
      "execution_count": null,
      "outputs": []
    },
    {
      "cell_type": "code",
      "metadata": {
        "id": "Rp1tdie7aSkI"
      },
      "source": [
        "!wget https://raw.githubusercontent.com/nirmalaIndia/nano/master/ps1.jpg\n"
      ],
      "execution_count": null,
      "outputs": []
    },
    {
      "cell_type": "code",
      "metadata": {
        "id": "CuLBj0S5lc6_"
      },
      "source": [
        "!ls mynewfiles  "
      ],
      "execution_count": null,
      "outputs": []
    },
    {
      "cell_type": "code",
      "metadata": {
        "id": "77hgJhMfbdRx"
      },
      "source": [
        "\n",
        "import os\n",
        "\n",
        "ListofmyFolders = []\n",
        "\n",
        "\n",
        "for i in range(2):\n",
        "  ListofmyFolders.append( os.path.join('mynewfiles/dir' + str(i+1))  )\n",
        "  print('total training images:', len(os.listdir(ListofmyFolders[i])))"
      ],
      "execution_count": null,
      "outputs": []
    },
    {
      "cell_type": "code",
      "metadata": {
        "id": "9fHXygJklm8R"
      },
      "source": [
        "\n",
        "ListofmyFolders = ['mynewfiles/MEMS_devices_and_electrodes' , 'mynewfiles/Particles']"
      ],
      "execution_count": null,
      "outputs": []
    },
    {
      "cell_type": "code",
      "metadata": {
        "id": "FUhNPrBKaQMp"
      },
      "source": [
        "from keras.preprocessing.image import load_img\n",
        "from keras.preprocessing import image\n",
        "\n",
        "\n",
        "img_path = 'ps1.jpg' #@param [\"ps1.jpg\", \"ps1.jpg\"]\n",
        "img = image.load_img(img_path, target_size=(224, 224))\n",
        "img_tensor = image.img_to_array(img)\n",
        "img_tensor = np.expand_dims(img_tensor, axis=0)\n",
        "# Remember that the model was trained on inputs\n",
        "# that were preprocessed in the following way:\n",
        "img_tensor /= 255.\n",
        "\n",
        "# Its shape is (1, 150, 150, 3)\n",
        "print(img_tensor.shape)\n",
        "plt.imshow(img)\n",
        "plt.show()"
      ],
      "execution_count": null,
      "outputs": []
    },
    {
      "cell_type": "code",
      "metadata": {
        "id": "j5xpzKIIbuBL"
      },
      "source": [
        "pic_index = 19\n",
        "#10, 100, 309 mems, 2000, 19, 20 memes, 19 mems\n",
        "#particles 2, 29, 22\n",
        "\n",
        "rock_dir = ListofmyFolders[1]\n",
        "next_paper = ListofmyFolders[0]\n",
        "\n",
        "next_rock = [os.path.join(rock_dir, fname) \n",
        "                for fname in rock_files[pic_index-1:pic_index]]\n",
        "next_paper = [os.path.join(paper_dir, fname) \n",
        "                for fname in paper_files[pic_index-1:pic_index]]\n",
        "\n",
        "\n",
        "\n",
        "for i, img_path in enumerate(  next_rock ):\n",
        "  #print(img_path)\n",
        "  #img = mpimg.imread(img_path)\n",
        "  img = image.load_img(img_path, target_size=(224, 224))\n",
        "  print(img_path)\n",
        "  #print(img.shape)\n",
        "  plt.imshow(img)\n",
        "  plt.axis('Off')\n",
        "  plt.show()\n",
        "  \n",
        "\n",
        "img_tensor = image.img_to_array(img)\n",
        "img_tensor = np.expand_dims(img_tensor, axis=0)\n",
        "# Remember that the model was trained on inputs\n",
        "# that were preprocessed in the following way:\n",
        "img_tensor /= 255.\n",
        "\n",
        "# Its shape is (1, 150, 150, 3)\n",
        "print(img_tensor.shape)\n",
        "plt.imshow(img)\n",
        "plt.show()\n"
      ],
      "execution_count": null,
      "outputs": []
    },
    {
      "cell_type": "code",
      "metadata": {
        "id": "aHlDvWGJZkxJ"
      },
      "source": [
        "#@title Select a ai-lens to look through { run: \"auto\" }\n",
        "\n",
        "seeActivationAtLayer = \"0\" #@param [0,1, 4, 7, 9, 11, 13, 15, 17, 19, 22, 25]\n",
        "\n",
        "seeActivationAtLayer = int (seeActivationAtLayer)\n",
        "\n",
        "from keras import models\n",
        "\n",
        "layer_outputs = [layer.output for layer in model.layers]\n",
        "# Creates a model that will return these outputs, given the model input:\n",
        "#activation_model = models.Model(inputs=pre_trained_model.input, outputs=layer_outputs)\n",
        "\n",
        "print( layer_outputs)\n",
        "\n",
        "activation_model = 0\n",
        "activation_model = models.Model(model.input, outputs=layer_outputs[seeActivationAtLayer])\n",
        "\n",
        "\n",
        "\n",
        "activations = activation_model.predict(img_tensor)\n",
        "first_layer_activation = activations[0]\n",
        "\n",
        "layer_activation = activations[0]\n",
        "\n",
        "images_per_row = 16\n",
        "\n",
        "n_features = layer_activation.shape[-1]\n",
        "\n",
        "n_features\n",
        "\n",
        "if n_features <= 4: \n",
        "  images_per_row = 3\n",
        "  \n",
        "  \n",
        "size = layer_activation.shape[1]\n",
        "\n",
        "n_cols = n_features // images_per_row\n",
        "display_grid = np.zeros((size * n_cols, images_per_row * size))\n",
        "\n",
        "n_features = layer_activation.shape[-1]\n",
        "size = layer_activation.shape[1]\n",
        "\n",
        "\n",
        "print(n_features)\n",
        "\n",
        "n_cols = n_features // images_per_row\n",
        "\n",
        "\n",
        "\n",
        "display_grid =0\n",
        "display_grid = np.zeros((size * n_cols, images_per_row * size))\n",
        "\n",
        "print(n_cols)\n",
        "print(display_grid.shape)\n",
        "\n",
        "# We'll tile each filter into this big horizontal grid\n",
        "if True:\n",
        "  for col in range(n_cols):\n",
        "    for row in range(images_per_row):\n",
        "              channel_image = layer_activation[\n",
        "                                               :, :,\n",
        "                                               col * images_per_row + row]\n",
        "              # Post-process the feature to make it visually palatable\n",
        "              channel_image -= channel_image.mean()\n",
        "              channel_image /= channel_image.std()\n",
        "              channel_image *= 64\n",
        "              channel_image += 128\n",
        "              channel_image = np.clip(channel_image, 0, 255).astype('uint8')\n",
        "             # print(channel_image.shape)\n",
        "             # print(col * size)\n",
        "             # print((col + 1) * size)\n",
        "              display_grid[col * size : (col + 1) * size,\n",
        "                           row * size : (row + 1) * size] = channel_image\n",
        "\n",
        "    # Display the grid\n",
        "    scale = 1. / size\n",
        "    plt.figure(figsize=(scale * display_grid.shape[1] * 2 ,\n",
        "                          scale * 2 * display_grid.shape[0]))\n",
        "  plt.imshow(display_grid, aspect='auto', cmap='viridis')\n",
        "    \n",
        "plt.show()"
      ],
      "execution_count": null,
      "outputs": []
    },
    {
      "cell_type": "code",
      "metadata": {
        "id": "vqUAsrmUdotL"
      },
      "source": [
        "#@title Select a ai-lens to look through { run: \"auto\" }\n",
        "\n",
        "seeActivationAtLayer = \"2\" #@param [0,1, 4, 7, 9, 11, 13, 15, 17, 19, 22, 25]\n",
        "\n",
        "seeActivationAtLayer = int (seeActivationAtLayer)\n",
        "\n",
        "from keras import models\n",
        "\n",
        "layer_outputs = [layer.output for layer in model.layers]\n",
        "# Creates a model that will return these outputs, given the model input:\n",
        "#activation_model = models.Model(inputs=pre_trained_model.input, outputs=layer_outputs)\n",
        "\n",
        "print( layer_outputs)\n",
        "\n",
        "activation_model = 0\n",
        "activation_model = models.Model(model.input, outputs=layer_outputs[seeActivationAtLayer])\n",
        "\n",
        "\n",
        "\n",
        "activations = activation_model.predict(img_tensor)\n",
        "first_layer_activation = activations[0]\n",
        "\n",
        "layer_activation = activations[0]\n",
        "\n",
        "images_per_row = 16\n",
        "\n",
        "n_features = layer_activation.shape[-1]\n",
        "\n",
        "n_features\n",
        "\n",
        "if n_features <= 4: \n",
        "  images_per_row = 3\n",
        "  \n",
        "  \n",
        "size = layer_activation.shape[1]\n",
        "\n",
        "n_cols = n_features // images_per_row\n",
        "display_grid = np.zeros((size * n_cols, images_per_row * size))\n",
        "\n",
        "n_features = layer_activation.shape[-1]\n",
        "size = layer_activation.shape[1]\n",
        "\n",
        "\n",
        "print(n_features)\n",
        "\n",
        "n_cols = n_features // images_per_row\n",
        "\n",
        "\n",
        "\n",
        "display_grid =0\n",
        "display_grid = np.zeros((size * n_cols, images_per_row * size))\n",
        "\n",
        "print(n_cols)\n",
        "print(display_grid.shape)\n",
        "\n",
        "# We'll tile each filter into this big horizontal grid\n",
        "if True:\n",
        "  for col in range(n_cols):\n",
        "    for row in range(images_per_row):\n",
        "              channel_image = layer_activation[\n",
        "                                               :, :,\n",
        "                                               col * images_per_row + row]\n",
        "              # Post-process the feature to make it visually palatable\n",
        "              channel_image -= channel_image.mean()\n",
        "              channel_image /= channel_image.std()\n",
        "              channel_image *= 64\n",
        "              channel_image += 128\n",
        "              channel_image = np.clip(channel_image, 0, 255).astype('uint8')\n",
        "             # print(channel_image.shape)\n",
        "             # print(col * size)\n",
        "             # print((col + 1) * size)\n",
        "              display_grid[col * size : (col + 1) * size,\n",
        "                           row * size : (row + 1) * size] = channel_image\n",
        "\n",
        "    # Display the grid\n",
        "    scale = 1. / size\n",
        "    plt.figure(figsize=(scale * display_grid.shape[1] * 2 ,\n",
        "                          scale * 2 * display_grid.shape[0]))\n",
        "  plt.imshow(display_grid, aspect='auto', cmap='viridis')\n",
        "    \n",
        "plt.show()"
      ],
      "execution_count": null,
      "outputs": []
    },
    {
      "cell_type": "code",
      "metadata": {
        "id": "dtNUIDRYc6WI"
      },
      "source": [
        "newy = activations.reshape(32,24)\n",
        "newy.shape"
      ],
      "execution_count": null,
      "outputs": []
    },
    {
      "cell_type": "code",
      "metadata": {
        "id": "Xo2wdG-2aixv"
      },
      "source": [
        "activation_model.summary()"
      ],
      "execution_count": null,
      "outputs": []
    },
    {
      "cell_type": "code",
      "metadata": {
        "id": "TuSH8SzWF70z"
      },
      "source": [
        "confusionmatrix"
      ],
      "execution_count": null,
      "outputs": []
    },
    {
      "cell_type": "code",
      "metadata": {
        "id": "N1Nn4WCJ-rY6"
      },
      "source": [
        "from vit_keras import visualize\n",
        "\n",
        "x = train_generator.next()\n",
        "image = x[0]\n",
        "\n",
        "attention_map = visualize.attention_map(model = vit_model, image = image[0])\n",
        "\n",
        "# Plot results\n",
        "fig, (ax1, ax2) = plt.subplots(ncols = 2)\n",
        "ax1.axis('off')\n",
        "ax2.axis('off')\n",
        "ax1.set_title('Original')\n",
        "ax2.set_title('Attention Map')\n",
        "_ = ax1.imshow(image[0])\n",
        "_ = ax2.imshow(attention_map)"
      ],
      "execution_count": null,
      "outputs": []
    },
    {
      "cell_type": "code",
      "metadata": {
        "id": "bhhfwMK0ngKx"
      },
      "source": [
        "x = train_generator.next()\n",
        "image = x[0]\n",
        "plt.imshow(image[0])\n",
        "print(x[1][0])\n",
        "\n",
        "predicted = vit_modelTRAINED.predict(x)\n",
        "predicted"
      ],
      "execution_count": null,
      "outputs": []
    },
    {
      "cell_type": "code",
      "metadata": {
        "id": "-YoEjQ6CUuKO"
      },
      "source": [
        "image[0].shape\n"
      ],
      "execution_count": null,
      "outputs": []
    },
    {
      "cell_type": "code",
      "metadata": {
        "id": "z2wGiV8YZhvN"
      },
      "source": [
        ""
      ],
      "execution_count": null,
      "outputs": []
    },
    {
      "cell_type": "code",
      "metadata": {
        "id": "Rk90Jt_u-tDR"
      },
      "source": [
        "model = tf.keras.Sequential([\n",
        "        vit_model,\n",
        "        tf.keras.layers.Flatten(),\n",
        "        tf.keras.layers.BatchNormalization(),\n",
        "        tf.keras.layers.Dense(11, activation = tfa.activations.gelu),\n",
        "        tf.keras.layers.BatchNormalization(),\n",
        "        tf.keras.layers.Dense(5, 'softmax')\n",
        "    ],\n",
        "    name = 'vision_transformer')\n",
        "\n",
        "model.summary()"
      ],
      "execution_count": null,
      "outputs": []
    },
    {
      "cell_type": "code",
      "metadata": {
        "id": "ksVSEvAb5Rpo"
      },
      "source": [
        "import os\n",
        "\n",
        "\n",
        "rock_dir = os.path.join('mynewfiles/MEMS_devices_and_electrodes')\n",
        "paper_dir = os.path.join('mynewfiles/Particles')\n",
        "\n",
        "print('total training rock images:', len(os.listdir(rock_dir)))\n",
        "print('total training paper images:', len(os.listdir(paper_dir)))\n",
        "\n",
        "rock_files = os.listdir(rock_dir)\n",
        "print(rock_files[:10])\n",
        "\n",
        "paper_files = os.listdir(paper_dir)\n",
        "print(paper_files[:10])\n",
        "\n",
        "%matplotlib inline\n",
        "\n",
        "import matplotlib.pyplot as plt\n",
        "import matplotlib.image as mpimg\n",
        "from keras.preprocessing import image\n",
        "import numpy as np\n",
        "\n",
        "\n",
        "\n",
        "pic_index = 19\n",
        "#10, 100, 309 mems, 2000, 19, 20 memes, 19 mems\n",
        "#particles 2, 29, 22\n",
        "\n",
        "next_rock = [os.path.join(rock_dir, fname) \n",
        "                for fname in rock_files[pic_index-1:pic_index]]\n",
        "next_paper = [os.path.join(paper_dir, fname) \n",
        "                for fname in paper_files[pic_index-1:pic_index]]\n",
        "\n",
        "\n",
        "\n",
        "for i, img_path in enumerate(  next_rock ):\n",
        "  #print(img_path)\n",
        "  #img = mpimg.imread(img_path)\n",
        "  img = image.load_img(img_path, target_size=(150, 150))\n",
        "  print(img_path)\n",
        "  #print(img.shape)\n",
        "  plt.imshow(img)\n",
        "  plt.axis('Off')\n",
        "  plt.show()\n",
        "  "
      ],
      "execution_count": null,
      "outputs": []
    },
    {
      "cell_type": "code",
      "metadata": {
        "id": "ylm5iInidmtW"
      },
      "source": [
        "\n",
        "# Get an image and compute the attention map\n",
        "url = 'https://upload.wikimedia.org/wikipedia/commons/b/bc/Free%21_%283987584939%29.jpg'\n",
        "image = utils.read(url, image_size)\n",
        "\n",
        "\n",
        "attention_map = visualize.attention_map(model=vit_model, image=image)\n",
        "\n",
        "classes = utils.get_imagenet_classes()\n",
        "\n",
        "\n",
        "# Plot results\n",
        "fig, (ax1, ax2) = plt.subplots(ncols=2)\n",
        "ax1.axis('off')\n",
        "ax2.axis('off')\n",
        "ax1.set_title('Original')\n",
        "ax2.set_title('Attention Map')\n",
        "_ = ax1.imshow(image)\n",
        "_ = ax2.imshow(attention_map)"
      ],
      "execution_count": null,
      "outputs": []
    },
    {
      "cell_type": "code",
      "metadata": {
        "id": "sZwbcHBIg4Ae"
      },
      "source": [
        "from keras.preprocessing.image import load_img\n",
        "from keras.preprocessing import image\n",
        "\n",
        "pic_index = 19\n",
        "#10, 100, 309 mems, 2000, 19, 20 memes, 19 mems\n",
        "#particles 2, 29, 22\n",
        "\n",
        "next_rock = [os.path.join(rock_dir, fname) \n",
        "                for fname in rock_files[pic_index-1:pic_index]]\n",
        "next_paper = [os.path.join(paper_dir, fname) \n",
        "                for fname in paper_files[pic_index-1:pic_index]]\n",
        "\n",
        "\n",
        "\n",
        "for i, img_path in enumerate(  next_rock ):\n",
        "  #print(img_path)\n",
        "  #img = mpimg.imread(img_path)\n",
        "  img = image.load_img(img_path, target_size=(150, 150))\n",
        "  print(img_path)\n",
        "  #print(img.shape)\n",
        "  plt.imshow(img)\n",
        "  plt.axis('Off')\n",
        "  plt.show()"
      ],
      "execution_count": null,
      "outputs": []
    },
    {
      "cell_type": "code",
      "metadata": {
        "id": "gQENSnhDhJvn"
      },
      "source": [
        "type(img)"
      ],
      "execution_count": null,
      "outputs": []
    },
    {
      "cell_type": "code",
      "metadata": {
        "id": "qPXIkY4dh2dK"
      },
      "source": [
        "\n",
        "url = 'https://static-01.hindawi.com/articles/js/volume-2010/487061/figures/487061.fig.004.jpg'\n",
        "url = 'https://media-ecn.s3.amazonaws.com/embedded_image/2019/03/Figure%201.png'\n",
        "url = 'https://i1.wp.com/sensera.com/2021/wp-content/uploads/2018/06/Pillars_Tall_Angle.jpg'\n",
        "url = 'https://encrypted-tbn0.gstatic.com/images?q=tbn:ANd9GcQo864UGgxQUvBcc3ZtvMPtNmlFSUak_DbRUw&usqp=CAU'\n",
        "url = 'https://news.mit.edu/sites/default/files/download/201911/MIT-Chiral-Nanoparticles-PRESS.jpg'\n",
        "#url = 'https://www.nanoshel.com/uploads/gallium-nanoparticles-dispersion29034490Gallium-Nanoparticles-184-e1513079297803.jpg'\n",
        "image = utils.read(url, image_size)"
      ],
      "execution_count": null,
      "outputs": []
    },
    {
      "cell_type": "code",
      "metadata": {
        "id": "Lkl1TkhBhZKZ"
      },
      "source": [
        "url = 'https://encrypted-tbn0.gstatic.com/images?q=tbn:ANd9GcRE52gZOWQwjxWI9x20LkToUpr-vmBHw-mQwg&usqp=CAU'\n",
        "image = utils.read(url, image_size)"
      ],
      "execution_count": null,
      "outputs": []
    },
    {
      "cell_type": "code",
      "metadata": {
        "id": "4IHPZDwNg0lA"
      },
      "source": [
        "attention_map = visualize.attention_map(model=vit_model, image=image)\n",
        "\n",
        "classes = utils.get_imagenet_classes()\n",
        "\n",
        "\n",
        "# Plot results\n",
        "fig, (ax1, ax2) = plt.subplots(ncols=2)\n",
        "ax1.axis('off')\n",
        "ax2.axis('off')\n",
        "ax1.set_title('Original')\n",
        "ax2.set_title('Attention Map')\n",
        "_ = ax1.imshow(image)\n",
        "_ = ax2.imshow(attention_map)"
      ],
      "execution_count": null,
      "outputs": []
    },
    {
      "cell_type": "code",
      "metadata": {
        "id": "N0WiYQZOkUYf"
      },
      "source": [
        "attention_map = visualize.attention_map(model=vit_modelorignal, image=image)\n",
        "\n",
        "classes = utils.get_imagenet_classes()\n",
        "\n",
        "\n",
        "# Plot results\n",
        "fig, (ax1, ax2) = plt.subplots(ncols=2)\n",
        "ax1.axis('off')\n",
        "ax2.axis('off')\n",
        "ax1.set_title('Original')\n",
        "ax2.set_title('Attention Map')\n",
        "_ = ax1.imshow(image)\n",
        "_ = ax2.imshow(attention_map)"
      ],
      "execution_count": null,
      "outputs": []
    },
    {
      "cell_type": "code",
      "metadata": {
        "id": "zuPbjtmNkQrv"
      },
      "source": [
        "vit_modelorignal = vit.vit_b32 (\n",
        "        image_size = (SIZE, SIZE), \n",
        "        activation = 'softmax',\n",
        "        pretrained = True,\n",
        "        include_top = True,\n",
        "        pretrained_top = False,\n",
        "        classes = 2)\n"
      ],
      "execution_count": null,
      "outputs": []
    }
  ]
}