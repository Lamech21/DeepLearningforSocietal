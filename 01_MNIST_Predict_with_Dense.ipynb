{
  "nbformat": 4,
  "nbformat_minor": 0,
  "metadata": {
    "colab": {
      "name": "1. MNIST Predict with Dense.ipynb",
      "provenance": [],
      "include_colab_link": true
    },
    "kernelspec": {
      "name": "python3",
      "display_name": "Python 3"
    },
    "accelerator": "GPU"
  },
  "cells": [
    {
      "cell_type": "markdown",
      "metadata": {
        "id": "view-in-github",
        "colab_type": "text"
      },
      "source": [
        "<a href=\"https://colab.research.google.com/github/rajagopalmotivate/DeepLearningforSocietal/blob/main/01_MNIST_Predict_with_Dense.ipynb\" target=\"_parent\"><img src=\"https://colab.research.google.com/assets/colab-badge.svg\" alt=\"Open In Colab\"/></a>"
      ]
    },
    {
      "metadata": {
        "id": "GcGASTOTWmux"
      },
      "cell_type": "markdown",
      "source": [
        "# *My Deep Learning Jump start Project No. 1*"
      ]
    },
    {
      "metadata": {
        "id": "ih46rSIMUSxp"
      },
      "cell_type": "markdown",
      "source": [
        "# My 1st Deep Learning experiement. G\n",
        "##Given an image (digit), predict what class this image belongs. \n",
        "### X is 28x28 image , Y is a label (can be any digit between 0 to 9)\n",
        "\n",
        "# My name: "
      ]
    },
    {
      "metadata": {
        "id": "513c4ViDVSZ0"
      },
      "cell_type": "markdown",
      "source": [
        "##Here are my steps\n",
        "###Step 1: Define the Problem and Collect data, Load the collected data, Visuvalize it\n",
        "###Step 2: Prepare the data (vectorize, reshape, normalize, OHE)\n",
        "###Step 3: Define the network architecture\n",
        "###Step 4: Define the metrics, optimizers, loss function, and Complie the model\n",
        "###Step 5: Train the network\n",
        "###Step 6: Evaluate the network, Iterate to improve the model\n",
        "###Step 7: Predict"
      ]
    },
    {
      "metadata": {
        "id": "l_ptIb6CEon5"
      },
      "cell_type": "code",
      "source": [
        "from keras.datasets import mnist\n",
        "from keras import models\n",
        "from keras import layers\n",
        "#from keras.utils import to_categorical\n",
        "from matplotlib import pyplot\n",
        "#from keras.utils import plot_model\n",
        "from IPython.display import Image\n",
        "import tensorflow as tf\n"
      ],
      "execution_count": 13,
      "outputs": []
    },
    {
      "metadata": {
        "id": "xX7Iz4NDYAaV"
      },
      "cell_type": "markdown",
      "source": [
        "\n",
        "# 1. Download the MNIST dataset, and load it into 4 variables\n",
        "```\n",
        "(trainX, trainY), (testX, testY) = mnist.load_data()\n",
        "\n",
        "```\n",
        "##Tip 1.  aKerasDataset. load_data(): This method returns 4 variables\n",
        "\n",
        "##Tip 2.  type(myObject) : Use this to find the type of object \n",
        "          (e.g. is it a interger, array)\n",
        "\n",
        "##Tip 3.  myArrary.shape returns the size of the array. \n",
        "            1 D array of 10 elements will be (10).              \n",
        "            2 D array will be (8, 8). \n",
        "\n",
        "\n",
        "\n"
      ]
    },
    {
      "metadata": {
        "id": "OhDD1Wx1EtyT",
        "colab": {
          "base_uri": "https://localhost:8080/"
        },
        "outputId": "030503f3-bf00-425a-a48e-6ef37eeb5d56"
      },
      "cell_type": "code",
      "source": [
        "#Step 1: Load the collected data, Visuvalize it\n",
        "\n",
        "(trainX, trainY), (testX, testY) = mnist.load_data()\n",
        "\n",
        "\n",
        "print('The type of object is ..')\n",
        "print(type(trainX))\n",
        "\n",
        "numberofTrainingsamples = trainX.shape[0]\n",
        "print(\"number of Training samples = \" + str(numberofTrainingsamples))\n",
        "\n",
        "print( \"Shape of trainX: \"+ str(trainX.shape) + \".   Shape of trainY\" + str( trainY.shape))\n",
        "print( \"Shape of testX: \"+ str(testX.shape) )\n",
        "\n",
        "\n",
        "print(\"number of Test samples = \" + str(testX.shape[0]))\n",
        "\n"
      ],
      "execution_count": 8,
      "outputs": [
        {
          "output_type": "stream",
          "name": "stdout",
          "text": [
            "The type of object is ..\n",
            "<class 'numpy.ndarray'>\n",
            "number of Training samples = 60000\n",
            "Shape of trainX: (60000, 28, 28).   Shape of trainY(60000,)\n",
            "Shape of testX: (10000, 28, 28)\n",
            "number of Test samples = 10000\n"
          ]
        }
      ]
    },
    {
      "metadata": {
        "id": "m-4-m8pybmqi"
      },
      "cell_type": "markdown",
      "source": [
        "#2. Visuvalize one of the elements of the dataset"
      ]
    },
    {
      "metadata": {
        "id": "tqcmxJs4E_D9",
        "colab": {
          "base_uri": "https://localhost:8080/",
          "height": 317
        },
        "outputId": "38f2598e-b040-47e7-83aa-49f1157c69c7"
      },
      "cell_type": "code",
      "source": [
        "print(\"TrainY [76] is labels as = \" + str(trainY[76]))\n",
        "print(\"TrainX [76] is a image and looks like this...\")\n",
        "pyplot.imshow(trainX[76])\n",
        "pyplot.show()\n",
        "print( \"Shape of this image is \"+ str(trainX[76].shape) )\n",
        "\n"
      ],
      "execution_count": 9,
      "outputs": [
        {
          "output_type": "stream",
          "name": "stdout",
          "text": [
            "TrainY [76] is labels as = 2\n",
            "TrainX [76] is a image and looks like this...\n"
          ]
        },
        {
          "output_type": "display_data",
          "data": {
            "image/png": "[encoded data removed]",
            "text/plain": [
              "<Figure size 432x288 with 1 Axes>"
            ]
          },
          "metadata": {
            "needs_background": "light"
          }
        },
        {
          "output_type": "stream",
          "name": "stdout",
          "text": [
            "Shape of this image is (28, 28)\n"
          ]
        }
      ]
    },
    {
      "metadata": {
        "id": "ovoUonr4b2as"
      },
      "cell_type": "markdown",
      "source": [
        "# 2.a Normalize values by dividing by 255\n",
        "\n",
        "Check the values of the arrary before and after dividing it by 255. We divide to normalize the values between 0 and 1 \n",
        "\n",
        "## Tip 1: matplotlib.pyplot.imshow(myArray): Use this to plot an array as a image\n"
      ]
    },
    {
      "metadata": {
        "id": "Elycn3tZFbs1",
        "colab": {
          "base_uri": "https://localhost:8080/",
          "height": 1000
        },
        "outputId": "dd7c9f83-4b6f-4638-dea1-3f892613af19"
      },
      "cell_type": "code",
      "source": [
        "print(\"TrainY [1000] is labels as = \" + str(trainY[1000]))\n",
        "print(\"TrainX [1000] is a image and looks like this...\")\n",
        "pyplot.imshow(trainX[1000])\n",
        "pyplot.show()\n",
        "print( \"Shape of this image is \"+ str(trainX[1000].shape) )\n",
        "print(\"This is a 2 dimensional array and its value is\") \n",
        "print(trainX[1000])\n",
        "\n"
      ],
      "execution_count": 10,
      "outputs": [
        {
          "output_type": "stream",
          "name": "stdout",
          "text": [
            "TrainY [1000] is labels as = 0\n",
            "TrainX [1000] is a image and looks like this...\n"
          ]
        },
        {
          "output_type": "display_data",
          "data": {
            "image/png": "[encoded data removed]",
            "text/plain": [
              "<Figure size 432x288 with 1 Axes>"
            ]
          },
          "metadata": {
            "needs_background": "light"
          }
        },
        {
          "output_type": "stream",
          "name": "stdout",
          "text": [
            "Shape of this image is (28, 28)\n",
            "This is a 2 dimensional array and its value is\n",
            "[[  0   0   0   0   0   0   0   0   0   0   0   0   0   0   0   0   0   0\n",
            "    0   0   0   0   0   0   0   0   0   0]\n",
            " [  0   0   0   0   0   0   0   0   0   0   0   0   0   0   0   0   0   0\n",
            "    0   0   0   0   0   0   0   0   0   0]\n",
            " [  0   0   0   0   0   0   0   0   0   0   0   0   0   0   0   0   0   0\n",
            "    0   0   0   0   0   0   0   0   0   0]\n",
            " [  0   0   0   0   0   0   0   0   0   0   0   0   0   0   0   0   0   0\n",
            "    0   0   0   0   0   0   0   0   0   0]\n",
            " [  0   0   0   0   0   0   0   0   0   0   0   0   0   0   0   0   0   0\n",
            "    0   0   0   0   0   0   0   0   0   0]\n",
            " [  0   0   0   0   0   0   0   0   0   0   0   0   0   0  36 146 254 255\n",
            "  251  95   6   0   0   0   0   0   0   0]\n",
            " [  0   0   0   0   0   0   0   0   0   0   0   0   3  97 234 254 254 232\n",
            "  254 254  35   0   0   0   0   0   0   0]\n",
            " [  0   0   0   0   0   0   0   0   0   0   0  89 140 254 254 174  67  33\n",
            "  200 254 190   0   0   0   0   0   0   0]\n",
            " [  0   0   0   0   0   0   0   0   0   0 108 253 254 235  51   1   0   0\n",
            "   12 254 253  56   0   0   0   0   0   0]\n",
            " [  0   0   0   0   0   0   0   0   0  12 216 254 244  55   0   0   0   0\n",
            "    6 213 254  57   0   0   0   0   0   0]\n",
            " [  0   0   0   0   0   0   0   0   0  25 254 254 132   0   0   0   0   0\n",
            "    0 168 254  57   0   0   0   0   0   0]\n",
            " [  0   0   0   0   0   0   0   0   0  45 254 243  34   0   0   0   0   0\n",
            "    0 168 254  57   0   0   0   0   0   0]\n",
            " [  0   0   0   0   0   0   0   0   0 128 254 157   0   0   0   0   0   0\n",
            "    0 168 254  57   0   0   0   0   0   0]\n",
            " [  0   0   0   0   0   0   0   0  19 228 254 105   0   0   0   0   0   0\n",
            "    7 228 254  57   0   0   0   0   0   0]\n",
            " [  0   0   0   0   0   0   0   0  58 254 254  87   0   0   0   0   0   0\n",
            "   10 254 246  47   0   0   0   0   0   0]\n",
            " [  0   0   0   0   0   0   0   0  58 254 254   9   0   0   0   0   0   0\n",
            "   10 254 210   0   0   0   0   0   0   0]\n",
            " [  0   0   0   0   0   0   0   0  58 254 254   9   0   0   0   0   0   0\n",
            "  105 254  91   0   0   0   0   0   0   0]\n",
            " [  0   0   0   0   0   0   0   0   5 219 254   9   0   0   0   0   0  24\n",
            "  230 254  24   0   0   0   0   0   0   0]\n",
            " [  0   0   0   0   0   0   0   0   0 216 254   9   0   0   0   0   0  84\n",
            "  254 251  23   0   0   0   0   0   0   0]\n",
            " [  0   0   0   0   0   0   0   0   0 216 254  36   0   0   0   0  22 208\n",
            "  251  94   0   0   0   0   0   0   0   0]\n",
            " [  0   0   0   0   0   0   0   0   0 129 254 120   0   0   0   3 140 254\n",
            "  229   0   0   0   0   0   0   0   0   0]\n",
            " [  0   0   0   0   0   0   0   0   0  83 254 222  17   0   0  91 254 236\n",
            "   53   0   0   0   0   0   0   0   0   0]\n",
            " [  0   0   0   0   0   0   0   0   0  18 235 254 134  21 119 237 254 124\n",
            "    0   0   0   0   0   0   0   0   0   0]\n",
            " [  0   0   0   0   0   0   0   0   0   0  53 249 254 234 252 254 172   3\n",
            "    0   0   0   0   0   0   0   0   0   0]\n",
            " [  0   0   0   0   0   0   0   0   0   0   0 116 237 254 254 133  20   0\n",
            "    0   0   0   0   0   0   0   0   0   0]\n",
            " [  0   0   0   0   0   0   0   0   0   0   0   0   0   0   0   0   0   0\n",
            "    0   0   0   0   0   0   0   0   0   0]\n",
            " [  0   0   0   0   0   0   0   0   0   0   0   0   0   0   0   0   0   0\n",
            "    0   0   0   0   0   0   0   0   0   0]\n",
            " [  0   0   0   0   0   0   0   0   0   0   0   0   0   0   0   0   0   0\n",
            "    0   0   0   0   0   0   0   0   0   0]]\n"
          ]
        }
      ]
    },
    {
      "metadata": {
        "id": "CpHaNznyHwYd",
        "colab": {
          "base_uri": "https://localhost:8080/"
        },
        "outputId": "4ba76be3-d651-4eb9-e4df-4c60620a8f8b"
      },
      "cell_type": "code",
      "source": [
        "#Step 2: Prepare the data (vectorize, reshape, normalize, OHE)\n",
        "\n",
        "print(\"trainY: \"+ str(trainY[2]))\n",
        "trainYready = tf.keras.utils.to_categorical(trainY)\n",
        "print(\"trainYOHE: \"+ str(trainYready[2]))\n",
        "testYready = tf.keras.utils.to_categorical(testY)\n",
        "\n"
      ],
      "execution_count": 15,
      "outputs": [
        {
          "output_type": "stream",
          "name": "stdout",
          "text": [
            "trainY: 4\n",
            "trainYOHE: [0. 0. 0. 0. 1. 0. 0. 0. 0. 0.]\n"
          ]
        }
      ]
    },
    {
      "metadata": {
        "id": "KKzam6YSKIb5"
      },
      "cell_type": "code",
      "source": [
        "\n",
        "trainXnormalized =  trainX.astype('float32') / 255\n",
        "\n",
        "testXnormalized = testX.astype('float32')/ 255"
      ],
      "execution_count": 16,
      "outputs": []
    },
    {
      "metadata": {
        "id": "pcaALZqmICjB",
        "colab": {
          "base_uri": "https://localhost:8080/",
          "height": 1000
        },
        "outputId": "99415058-9797-418b-e502-3d83febcfbfb"
      },
      "cell_type": "code",
      "source": [
        "print(\"trainXready [1000] is a image and looks like this...\")\n",
        "pyplot.imshow(trainXnormalized[1000])\n",
        "pyplot.show()\n",
        "print( \"Shape of this image is \"+ str(trainXnormalized[1000].shape) )\n",
        "print(\"This is a 2 dimensional array and its value is\") \n",
        "print(trainXnormalized[1000])\n",
        "\n"
      ],
      "execution_count": 17,
      "outputs": [
        {
          "output_type": "stream",
          "name": "stdout",
          "text": [
            "trainXready [1000] is a image and looks like this...\n"
          ]
        },
        {
          "output_type": "display_data",
          "data": {
            "image/png": "[encoded data removed]",
            "text/plain": [
              "<Figure size 432x288 with 1 Axes>"
            ]
          },
          "metadata": {
            "needs_background": "light"
          }
        },
        {
          "output_type": "stream",
          "name": "stdout",
          "text": [
            "Shape of this image is (28, 28)\n",
            "This is a 2 dimensional array and its value is\n",
            "[[0.         0.         0.         0.         0.         0.\n",
            "  0.         0.         0.         0.         0.         0.\n",
            "  0.         0.         0.         0.         0.         0.\n",
            "  0.         0.         0.         0.         0.         0.\n",
            "  0.         0.         0.         0.        ]\n",
            " [0.         0.         0.         0.         0.         0.\n",
            "  0.         0.         0.         0.         0.         0.\n",
            "  0.         0.         0.         0.         0.         0.\n",
            "  0.         0.         0.         0.         0.         0.\n",
            "  0.         0.         0.         0.        ]\n",
            " [0.         0.         0.         0.         0.         0.\n",
            "  0.         0.         0.         0.         0.         0.\n",
            "  0.         0.         0.         0.         0.         0.\n",
            "  0.         0.         0.         0.         0.         0.\n",
            "  0.         0.         0.         0.        ]\n",
            " [0.         0.         0.         0.         0.         0.\n",
            "  0.         0.         0.         0.         0.         0.\n",
            "  0.         0.         0.         0.         0.         0.\n",
            "  0.         0.         0.         0.         0.         0.\n",
            "  0.         0.         0.         0.        ]\n",
            " [0.         0.         0.         0.         0.         0.\n",
            "  0.         0.         0.         0.         0.         0.\n",
            "  0.         0.         0.         0.         0.         0.\n",
            "  0.         0.         0.         0.         0.         0.\n",
            "  0.         0.         0.         0.        ]\n",
            " [0.         0.         0.         0.         0.         0.\n",
            "  0.         0.         0.         0.         0.         0.\n",
            "  0.         0.         0.14117648 0.57254905 0.99607843 1.\n",
            "  0.9843137  0.37254903 0.02352941 0.         0.         0.\n",
            "  0.         0.         0.         0.        ]\n",
            " [0.         0.         0.         0.         0.         0.\n",
            "  0.         0.         0.         0.         0.         0.\n",
            "  0.01176471 0.38039216 0.91764706 0.99607843 0.99607843 0.9098039\n",
            "  0.99607843 0.99607843 0.13725491 0.         0.         0.\n",
            "  0.         0.         0.         0.        ]\n",
            " [0.         0.         0.         0.         0.         0.\n",
            "  0.         0.         0.         0.         0.         0.34901962\n",
            "  0.54901963 0.99607843 0.99607843 0.68235296 0.2627451  0.12941177\n",
            "  0.78431374 0.99607843 0.74509805 0.         0.         0.\n",
            "  0.         0.         0.         0.        ]\n",
            " [0.         0.         0.         0.         0.         0.\n",
            "  0.         0.         0.         0.         0.42352942 0.99215686\n",
            "  0.99607843 0.92156863 0.2        0.00392157 0.         0.\n",
            "  0.04705882 0.99607843 0.99215686 0.21960784 0.         0.\n",
            "  0.         0.         0.         0.        ]\n",
            " [0.         0.         0.         0.         0.         0.\n",
            "  0.         0.         0.         0.04705882 0.84705883 0.99607843\n",
            "  0.95686275 0.21568628 0.         0.         0.         0.\n",
            "  0.02352941 0.8352941  0.99607843 0.22352941 0.         0.\n",
            "  0.         0.         0.         0.        ]\n",
            " [0.         0.         0.         0.         0.         0.\n",
            "  0.         0.         0.         0.09803922 0.99607843 0.99607843\n",
            "  0.5176471  0.         0.         0.         0.         0.\n",
            "  0.         0.65882355 0.99607843 0.22352941 0.         0.\n",
            "  0.         0.         0.         0.        ]\n",
            " [0.         0.         0.         0.         0.         0.\n",
            "  0.         0.         0.         0.1764706  0.99607843 0.9529412\n",
            "  0.13333334 0.         0.         0.         0.         0.\n",
            "  0.         0.65882355 0.99607843 0.22352941 0.         0.\n",
            "  0.         0.         0.         0.        ]\n",
            " [0.         0.         0.         0.         0.         0.\n",
            "  0.         0.         0.         0.5019608  0.99607843 0.6156863\n",
            "  0.         0.         0.         0.         0.         0.\n",
            "  0.         0.65882355 0.99607843 0.22352941 0.         0.\n",
            "  0.         0.         0.         0.        ]\n",
            " [0.         0.         0.         0.         0.         0.\n",
            "  0.         0.         0.07450981 0.89411765 0.99607843 0.4117647\n",
            "  0.         0.         0.         0.         0.         0.\n",
            "  0.02745098 0.89411765 0.99607843 0.22352941 0.         0.\n",
            "  0.         0.         0.         0.        ]\n",
            " [0.         0.         0.         0.         0.         0.\n",
            "  0.         0.         0.22745098 0.99607843 0.99607843 0.34117648\n",
            "  0.         0.         0.         0.         0.         0.\n",
            "  0.03921569 0.99607843 0.9647059  0.18431373 0.         0.\n",
            "  0.         0.         0.         0.        ]\n",
            " [0.         0.         0.         0.         0.         0.\n",
            "  0.         0.         0.22745098 0.99607843 0.99607843 0.03529412\n",
            "  0.         0.         0.         0.         0.         0.\n",
            "  0.03921569 0.99607843 0.8235294  0.         0.         0.\n",
            "  0.         0.         0.         0.        ]\n",
            " [0.         0.         0.         0.         0.         0.\n",
            "  0.         0.         0.22745098 0.99607843 0.99607843 0.03529412\n",
            "  0.         0.         0.         0.         0.         0.\n",
            "  0.4117647  0.99607843 0.35686275 0.         0.         0.\n",
            "  0.         0.         0.         0.        ]\n",
            " [0.         0.         0.         0.         0.         0.\n",
            "  0.         0.         0.01960784 0.85882354 0.99607843 0.03529412\n",
            "  0.         0.         0.         0.         0.         0.09411765\n",
            "  0.9019608  0.99607843 0.09411765 0.         0.         0.\n",
            "  0.         0.         0.         0.        ]\n",
            " [0.         0.         0.         0.         0.         0.\n",
            "  0.         0.         0.         0.84705883 0.99607843 0.03529412\n",
            "  0.         0.         0.         0.         0.         0.32941177\n",
            "  0.99607843 0.9843137  0.09019608 0.         0.         0.\n",
            "  0.         0.         0.         0.        ]\n",
            " [0.         0.         0.         0.         0.         0.\n",
            "  0.         0.         0.         0.84705883 0.99607843 0.14117648\n",
            "  0.         0.         0.         0.         0.08627451 0.8156863\n",
            "  0.9843137  0.36862746 0.         0.         0.         0.\n",
            "  0.         0.         0.         0.        ]\n",
            " [0.         0.         0.         0.         0.         0.\n",
            "  0.         0.         0.         0.5058824  0.99607843 0.47058824\n",
            "  0.         0.         0.         0.01176471 0.54901963 0.99607843\n",
            "  0.8980392  0.         0.         0.         0.         0.\n",
            "  0.         0.         0.         0.        ]\n",
            " [0.         0.         0.         0.         0.         0.\n",
            "  0.         0.         0.         0.3254902  0.99607843 0.87058824\n",
            "  0.06666667 0.         0.         0.35686275 0.99607843 0.9254902\n",
            "  0.20784314 0.         0.         0.         0.         0.\n",
            "  0.         0.         0.         0.        ]\n",
            " [0.         0.         0.         0.         0.         0.\n",
            "  0.         0.         0.         0.07058824 0.92156863 0.99607843\n",
            "  0.5254902  0.08235294 0.46666667 0.92941177 0.99607843 0.4862745\n",
            "  0.         0.         0.         0.         0.         0.\n",
            "  0.         0.         0.         0.        ]\n",
            " [0.         0.         0.         0.         0.         0.\n",
            "  0.         0.         0.         0.         0.20784314 0.9764706\n",
            "  0.99607843 0.91764706 0.9882353  0.99607843 0.6745098  0.01176471\n",
            "  0.         0.         0.         0.         0.         0.\n",
            "  0.         0.         0.         0.        ]\n",
            " [0.         0.         0.         0.         0.         0.\n",
            "  0.         0.         0.         0.         0.         0.45490196\n",
            "  0.92941177 0.99607843 0.99607843 0.52156866 0.07843138 0.\n",
            "  0.         0.         0.         0.         0.         0.\n",
            "  0.         0.         0.         0.        ]\n",
            " [0.         0.         0.         0.         0.         0.\n",
            "  0.         0.         0.         0.         0.         0.\n",
            "  0.         0.         0.         0.         0.         0.\n",
            "  0.         0.         0.         0.         0.         0.\n",
            "  0.         0.         0.         0.        ]\n",
            " [0.         0.         0.         0.         0.         0.\n",
            "  0.         0.         0.         0.         0.         0.\n",
            "  0.         0.         0.         0.         0.         0.\n",
            "  0.         0.         0.         0.         0.         0.\n",
            "  0.         0.         0.         0.        ]\n",
            " [0.         0.         0.         0.         0.         0.\n",
            "  0.         0.         0.         0.         0.         0.\n",
            "  0.         0.         0.         0.         0.         0.\n",
            "  0.         0.         0.         0.         0.         0.\n",
            "  0.         0.         0.         0.        ]]\n"
          ]
        }
      ]
    },
    {
      "metadata": {
        "id": "YHtEsnhlIwfk",
        "colab": {
          "base_uri": "https://localhost:8080/"
        },
        "outputId": "e7796e5e-1f81-4b9d-dba6-18a8306c337b"
      },
      "cell_type": "code",
      "source": [
        "print(\"Shape of trainXnormalized[0] is \"+ str(trainXnormalized.shape[0]))\n",
        "\n",
        "\n",
        "print( \"\\n Shape of trainXnormalized is \"+ str(trainXnormalized.shape) )\n",
        "\n",
        "trainXready = trainXnormalized.reshape( trainXnormalized.shape[0], 28*28 )\n",
        "\n",
        "testXready = testXnormalized.reshape( testXnormalized.shape[0], 28*28 )\n",
        "\n",
        "print( \" Shape of trainXready is      \"+ str(trainXready.shape) )\n",
        "\n",
        "\n",
        "\n"
      ],
      "execution_count": 18,
      "outputs": [
        {
          "output_type": "stream",
          "name": "stdout",
          "text": [
            "Shape of trainXnormalized[0] is 60000\n",
            "\n",
            " Shape of trainXnormalized is (60000, 28, 28)\n",
            " Shape of trainXready is      (60000, 784)\n"
          ]
        }
      ]
    },
    {
      "metadata": {
        "id": "5f5enbzldCZi"
      },
      "cell_type": "markdown",
      "source": [
        "#3. Define the network architecture\n",
        "\n"
      ]
    },
    {
      "metadata": {
        "id": "4y-n-9slLLJg"
      },
      "cell_type": "code",
      "source": [
        "#Step 3: Define the network architecture\n",
        "network = models.Sequential(name='Karunya')\n",
        "layer1 = layers.Dense(512, input_shape=(28*28,), activation='relu')\n",
        "network.add(layer1)\n",
        "layer2 = layers.Dense(128, activation='relu')\n",
        "network.add(layer2)\n",
        "layer3 = layers.Dense(10, activation='softmax')\n",
        "network.add(layer3)\n"
      ],
      "execution_count": 34,
      "outputs": []
    },
    {
      "metadata": {
        "id": "BW4OW6RHLQhv",
        "colab": {
          "base_uri": "https://localhost:8080/"
        },
        "outputId": "6d5847a3-bf2c-4c20-cb2b-c41a2d68fe7a"
      },
      "cell_type": "code",
      "source": [
        "print(network.name)\n",
        "\n",
        "print(\"Here is architecture of my neural network..  \")\n",
        "\n",
        "print(network.summary())"
      ],
      "execution_count": 35,
      "outputs": [
        {
          "output_type": "stream",
          "name": "stdout",
          "text": [
            "Karunya\n",
            "Here is architecture of my neural network..  \n",
            "Model: \"Karunya\"\n",
            "_________________________________________________________________\n",
            " Layer (type)                Output Shape              Param #   \n",
            "=================================================================\n",
            " dense_6 (Dense)             (None, 512)               401920    \n",
            "                                                                 \n",
            " dense_7 (Dense)             (None, 128)               65664     \n",
            "                                                                 \n",
            " dense_8 (Dense)             (None, 10)                1290      \n",
            "                                                                 \n",
            "=================================================================\n",
            "Total params: 468,874\n",
            "Trainable params: 468,874\n",
            "Non-trainable params: 0\n",
            "_________________________________________________________________\n",
            "None\n"
          ]
        }
      ]
    },
    {
      "metadata": {
        "id": "HNepGJblLo8c",
        "colab": {
          "base_uri": "https://localhost:8080/"
        },
        "outputId": "573b7764-47f1-4371-ec07-681784279fa7"
      },
      "cell_type": "code",
      "source": [
        "# Plot model graph\n",
        "\n",
        "print('This is neural network model is a Fully Connected Neural network consisting of 3 Dense layers')\n",
        "print('Input is a array of 784 elements ')\n",
        "print('Output is one of 10 classes ')\n",
        "\n",
        "print(network.name)\n",
        "\n",
        "print(network)\n",
        "\n",
        " \n",
        "\n"
      ],
      "execution_count": 36,
      "outputs": [
        {
          "output_type": "stream",
          "name": "stdout",
          "text": [
            "This is neural network model is a Fully Connected Neural network consisting of 3 Dense layers\n",
            "Input is a array of 784 elements \n",
            "Output is one of 10 classes \n",
            "Karunya\n",
            "<keras.engine.sequential.Sequential object at 0x7f292b318650>\n"
          ]
        }
      ]
    },
    {
      "metadata": {
        "id": "lEkaktnRPVrJ"
      },
      "cell_type": "code",
      "source": [
        "from google.colab import files\n",
        "files.download('my1stmodel.png')"
      ],
      "execution_count": null,
      "outputs": []
    },
    {
      "metadata": {
        "id": "cKWqPm6ldVTe"
      },
      "cell_type": "markdown",
      "source": [
        "#4. Choose the loss funtion"
      ]
    },
    {
      "metadata": {
        "id": "fsrdAyo5QoGY"
      },
      "cell_type": "code",
      "source": [
        "#Step 4: Define the metrics, optimizers, loss function, and Complie the model\n",
        "network.compile(optimizer='rmsprop', loss='categorical_crossentropy', metrics=['accuracy'])\n"
      ],
      "execution_count": 38,
      "outputs": []
    },
    {
      "metadata": {
        "id": "xPE41erDdeyF"
      },
      "cell_type": "code",
      "source": [
        "#5. Train the network "
      ],
      "execution_count": 39,
      "outputs": []
    },
    {
      "metadata": {
        "id": "gHHI14JJdmVx"
      },
      "cell_type": "markdown",
      "source": [
        "# 5. Train the network\n",
        "\n",
        "##Tip 1 : myModel.fit( X, Y ) trains the neural network with dataset (X, Y ). \n",
        "It returns a log history, which is a log of values in each iteration "
      ]
    },
    {
      "metadata": {
        "id": "Jd21BCvUQrrr",
        "colab": {
          "base_uri": "https://localhost:8080/"
        },
        "outputId": "78dfce90-6569-48f0-d342-1beeb84d1fe4"
      },
      "cell_type": "code",
      "source": [
        "#Step 5: Train the network\n",
        "history = network.fit( trainXready, trainYready, batch_size=32, epochs=10)\n"
      ],
      "execution_count": 40,
      "outputs": [
        {
          "output_type": "stream",
          "name": "stdout",
          "text": [
            "Epoch 1/10\n",
            "1875/1875 [==============================] - 10s 4ms/step - loss: 0.1945 - accuracy: 0.9419\n",
            "Epoch 2/10\n",
            "1875/1875 [==============================] - 8s 4ms/step - loss: 0.0921 - accuracy: 0.9741\n",
            "Epoch 3/10\n",
            "1875/1875 [==============================] - 8s 4ms/step - loss: 0.0694 - accuracy: 0.9816\n",
            "Epoch 4/10\n",
            "1875/1875 [==============================] - 8s 4ms/step - loss: 0.0592 - accuracy: 0.9853\n",
            "Epoch 5/10\n",
            "1875/1875 [==============================] - 8s 4ms/step - loss: 0.0506 - accuracy: 0.9874\n",
            "Epoch 6/10\n",
            "1875/1875 [==============================] - 8s 4ms/step - loss: 0.0445 - accuracy: 0.9894\n",
            "Epoch 7/10\n",
            "1875/1875 [==============================] - 8s 4ms/step - loss: 0.0408 - accuracy: 0.9903\n",
            "Epoch 8/10\n",
            "1875/1875 [==============================] - 8s 4ms/step - loss: 0.0354 - accuracy: 0.9918\n",
            "Epoch 9/10\n",
            "1875/1875 [==============================] - 8s 4ms/step - loss: 0.0316 - accuracy: 0.9923\n",
            "Epoch 10/10\n",
            "1875/1875 [==============================] - 8s 4ms/step - loss: 0.0300 - accuracy: 0.9935\n"
          ]
        }
      ]
    },
    {
      "metadata": {
        "id": "JgbZ34bwQwDw",
        "colab": {
          "base_uri": "https://localhost:8080/"
        },
        "outputId": "8b26c996-006d-462d-817a-a17013e1b34b"
      },
      "cell_type": "code",
      "source": [
        "#Step 6: Evaluate the network\n",
        "metrics_test_loss, metrics_test_accuracy = network.evaluate(testXready, testYready)\n",
        "\n",
        "print(\" Loss on test data is: \" + str(metrics_test_loss))\n",
        "print(\" Accuracy of my nerual network on test data in percentage is : \" + str(metrics_test_accuracy* 100))\n",
        "\n"
      ],
      "execution_count": 41,
      "outputs": [
        {
          "output_type": "stream",
          "name": "stdout",
          "text": [
            "313/313 [==============================] - 1s 3ms/step - loss: 0.1720 - accuracy: 0.9800\n",
            " Loss on test data is: 0.17197158932685852\n",
            " Accuracy of my nerual network on test data in percentage is : 98.00000190734863\n"
          ]
        }
      ]
    },
    {
      "metadata": {
        "id": "tBuUVJrUeJFu"
      },
      "cell_type": "markdown",
      "source": [
        "# 6. Predict what class a image belongs to\n",
        "\n",
        "### Tip 1. myModel.predict() accepts a array "
      ]
    },
    {
      "metadata": {
        "id": "AfHQG05NRc0J",
        "colab": {
          "base_uri": "https://localhost:8080/",
          "height": 387
        },
        "outputId": "db0758cb-a05f-4e9b-e971-1949130a17ea"
      },
      "cell_type": "code",
      "source": [
        "import numpy as np\n",
        "\n",
        "#Step 7: Predict\n",
        "\n",
        "\n",
        "predictedResults = network.predict(testXready[1:2])\n",
        "print(\"Predicted Results: \" + str(predictedResults))\n",
        "predictedclass = predictedResults.argmax()\n",
        "\n",
        "\n",
        "predictedResults = np.around(predictedResults)\n",
        "print(\"Predicted Results: \" + str(predictedResults))\n",
        "\n",
        "\n",
        "print(\"Ground Truth OHE : \" + str(testYready[1:2]))\n",
        "\n",
        "print(\"Ground Truth :      \" + str(testY[1:2]))\n",
        "\n",
        "print(\"Predicited class is : \" + str(predictedclass))\n",
        "\n",
        "print(\"My nerual network predicts the below image as : \" + str(predictedclass))\n",
        "\n",
        "\n",
        "pyplot.imshow(testX[1])\n",
        "pyplot.show()\n"
      ],
      "execution_count": 42,
      "outputs": [
        {
          "output_type": "stream",
          "name": "stdout",
          "text": [
            "Predicted Results: [[0.0000000e+00 1.5446828e-22 1.0000000e+00 2.9609186e-36 0.0000000e+00\n",
            "  0.0000000e+00 0.0000000e+00 0.0000000e+00 0.0000000e+00 0.0000000e+00]]\n",
            "Predicted Results: [[0. 0. 1. 0. 0. 0. 0. 0. 0. 0.]]\n",
            "Ground Truth OHE : [[0. 0. 1. 0. 0. 0. 0. 0. 0. 0.]]\n",
            "Ground Truth :      [2]\n",
            "Predicited class is : 2\n",
            "My nerual network predicts the below image as : 2\n"
          ]
        },
        {
          "output_type": "display_data",
          "data": {
            "image/png": "[encoded data removed]",
            "text/plain": [
              "<Figure size 432x288 with 1 Axes>"
            ]
          },
          "metadata": {
            "needs_background": "light"
          }
        }
      ]
    },
    {
      "metadata": {
        "id": "NN6BcMUGSyZe",
        "colab": {
          "base_uri": "https://localhost:8080/",
          "height": 387
        },
        "outputId": "9741f2f4-dbf9-4f2b-9fc4-b805cb7c434b"
      },
      "cell_type": "code",
      "source": [
        "\n",
        "#Step 7: Predict\n",
        "\n",
        "hereismyimageindextopredict = 100\n",
        "\n",
        "\n",
        "predictedResults = network.predict(testXready[hereismyimageindextopredict:hereismyimageindextopredict+1])\n",
        "print(\"Predicted Results: \" + str(predictedResults))\n",
        "predictedclass = predictedResults.argmax()\n",
        "\n",
        "\n",
        "predictedResults = np.around(predictedResults)\n",
        "print(\"Predicted Results: \" + str(predictedResults))\n",
        "\n",
        "\n",
        "print(\"Ground Truth OHE : \" + str(testYready[hereismyimageindextopredict:hereismyimageindextopredict+1]))\n",
        "\n",
        "print(\"Ground Truth :      \" + str(testY[hereismyimageindextopredict:hereismyimageindextopredict+1]))\n",
        "\n",
        "print(\"Predicited class is : \" + str(predictedclass))\n",
        "\n",
        "print(\"My nerual network predicts the below image as : \" + str(predictedclass))\n",
        "\n",
        "\n",
        "pyplot.imshow(testX[hereismyimageindextopredict])\n",
        "pyplot.show()\n"
      ],
      "execution_count": 43,
      "outputs": [
        {
          "output_type": "stream",
          "name": "stdout",
          "text": [
            "Predicted Results: [[1.7371791e-20 1.3010235e-26 6.9297594e-23 8.4314234e-30 4.1718487e-24\n",
            "  5.6846938e-16 1.0000000e+00 3.6284034e-28 2.9241368e-20 7.2788946e-35]]\n",
            "Predicted Results: [[0. 0. 0. 0. 0. 0. 1. 0. 0. 0.]]\n",
            "Ground Truth OHE : [[0. 0. 0. 0. 0. 0. 1. 0. 0. 0.]]\n",
            "Ground Truth :      [6]\n",
            "Predicited class is : 6\n",
            "My nerual network predicts the below image as : 6\n"
          ]
        },
        {
          "output_type": "display_data",
          "data": {
            "image/png": "[encoded data removed]",
            "text/plain": [
              "<Figure size 432x288 with 1 Axes>"
            ]
          },
          "metadata": {
            "needs_background": "light"
          }
        }
      ]
    },
    {
      "metadata": {
        "id": "MYNZN55BTgD6",
        "colab": {
          "base_uri": "https://localhost:8080/",
          "height": 295
        },
        "outputId": "e8cf785b-92cd-4acb-fe32-32eba8feb454"
      },
      "cell_type": "code",
      "source": [
        "import matplotlib.pyplot as plt\n",
        "\n",
        "plt.plot(history.history['accuracy'])\n",
        "plt.title('Model accuracy')\n",
        "plt.ylabel('Accuracy')\n",
        "plt.xlabel('Epoch')\n",
        "plt.legend(['Train'], loc='upper left')\n",
        "plt.show()"
      ],
      "execution_count": 45,
      "outputs": [
        {
          "output_type": "display_data",
          "data": {
            "image/png": "[encoded data removed]",
            "text/plain": [
              "<Figure size 432x288 with 1 Axes>"
            ]
          },
          "metadata": {
            "needs_background": "light"
          }
        }
      ]
    },
    {
      "metadata": {
        "id": "iquI2z5JT_as",
        "colab": {
          "base_uri": "https://localhost:8080/",
          "height": 295
        },
        "outputId": "99704f89-3379-4aa1-8c79-9d37d1fe95d2"
      },
      "cell_type": "code",
      "source": [
        "# Plot training & validation loss values\n",
        "plt.plot(history.history['loss'])\n",
        "plt.title('Model loss')\n",
        "plt.ylabel('Loss')\n",
        "plt.xlabel('Epoch')\n",
        "plt.legend(['Train'], loc='upper left')\n",
        "plt.show()"
      ],
      "execution_count": 46,
      "outputs": [
        {
          "output_type": "display_data",
          "data": {
            "image/png": "[encoded data removed]",
            "text/plain": [
              "<Figure size 432x288 with 1 Axes>"
            ]
          },
          "metadata": {
            "needs_background": "light"
          }
        }
      ]
    }
  ]
}